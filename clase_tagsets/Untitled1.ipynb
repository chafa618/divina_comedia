{
 "cells": [
  {
   "cell_type": "code",
   "execution_count": 7,
   "metadata": {},
   "outputs": [
    {
     "ename": "ModuleNotFoundError",
     "evalue": "No module named 'pyfreeling'",
     "output_type": "error",
     "traceback": [
      "\u001b[0;31m---------------------------------------------------------------------------\u001b[0m",
      "\u001b[0;31mModuleNotFoundError\u001b[0m                       Traceback (most recent call last)",
      "\u001b[0;32m<ipython-input-7-9433ca21b8fa>\u001b[0m in \u001b[0;36m<module>\u001b[0;34m\u001b[0m\n\u001b[0;32m----> 1\u001b[0;31m \u001b[0;32mimport\u001b[0m \u001b[0mpyfreeling\u001b[0m\u001b[0;34m\u001b[0m\u001b[0;34m\u001b[0m\u001b[0m\n\u001b[0m\u001b[1;32m      2\u001b[0m \u001b[0;32mimport\u001b[0m \u001b[0msys\u001b[0m\u001b[0;34m\u001b[0m\u001b[0;34m\u001b[0m\u001b[0m\n",
      "\u001b[0;31mModuleNotFoundError\u001b[0m: No module named 'pyfreeling'"
     ]
    }
   ],
   "source": [
    "import pyfreeling\n",
    "import sys"
   ]
  },
  {
   "cell_type": "code",
   "execution_count": 9,
   "metadata": {},
   "outputs": [
    {
     "ename": "ModuleNotFoundError",
     "evalue": "No module named 'pyfreeling'",
     "output_type": "error",
     "traceback": [
      "\u001b[0;31m---------------------------------------------------------------------------\u001b[0m",
      "\u001b[0;31mModuleNotFoundError\u001b[0m                       Traceback (most recent call last)",
      "\u001b[0;32m<ipython-input-9-65e2e3addc5d>\u001b[0m in \u001b[0;36m<module>\u001b[0;34m\u001b[0m\n\u001b[1;32m      1\u001b[0m \u001b[0;31m#! /usr/bin/python3.6\u001b[0m\u001b[0;34m\u001b[0m\u001b[0;34m\u001b[0m\u001b[0;34m\u001b[0m\u001b[0m\n\u001b[1;32m      2\u001b[0m \u001b[0;34m\u001b[0m\u001b[0m\n\u001b[0;32m----> 3\u001b[0;31m \u001b[0;32mimport\u001b[0m \u001b[0mpyfreeling\u001b[0m\u001b[0;34m\u001b[0m\u001b[0;34m\u001b[0m\u001b[0m\n\u001b[0m\u001b[1;32m      4\u001b[0m \u001b[0;32mimport\u001b[0m \u001b[0msys\u001b[0m\u001b[0;34m\u001b[0m\u001b[0;34m\u001b[0m\u001b[0m\n\u001b[1;32m      5\u001b[0m \u001b[0;34m\u001b[0m\u001b[0m\n",
      "\u001b[0;31mModuleNotFoundError\u001b[0m: No module named 'pyfreeling'"
     ]
    }
   ],
   "source": [
    "#! /usr/bin/python3.6\n",
    "\n",
    "import pyfreeling\n",
    "import sys\n",
    "\n",
    "## -----------------------------------------------\n",
    "## Do whatever is needed with analyzed sentences\n",
    "## -----------------------------------------------\n",
    "def ProcessSentences(ls):\n",
    "\n",
    "    # for each sentence in list\n",
    "    for s in ls :\n",
    "        # for each word in sentence\n",
    "        for w in s :\n",
    "            # print word form  \n",
    "            print(\"word '\"+w.get_form()+\"'\")\n",
    "            # print possible analysis in word, output lemma and tag\n",
    "            print(\"  Possible analysis: {\",end=\"\")\n",
    "            for a in w :\n",
    "                print(\" (\"+a.get_lemma()+\",\"+a.get_tag()+\")\",end=\"\")\n",
    "            print(\" }\")\n",
    "            #  print analysis selected by the tagger \n",
    "            print(\"  Selected Analysis: (\"+w.get_lemma()+\",\"+w.get_tag()+\")\")\n",
    "        # sentence separator\n",
    "        print(\"\")  \n",
    "\n",
    "\n",
    "## -----------------------------------------------\n",
    "## Set desired options for morphological analyzer\n",
    "## -----------------------------------------------\n",
    "def my_maco_options(lang,lpath) :\n",
    "\n",
    "    # create options holder \n",
    "    opt = pyfreeling.maco_options(lang);\n",
    "\n",
    "    # Provide files for morphological submodules. Note that it is not \n",
    "    # necessary to set file for modules that will not be used.\n",
    "    opt.UserMapFile = \"\";\n",
    "    opt.LocutionsFile = lpath + \"locucions.dat\"; \n",
    "    opt.AffixFile = lpath + \"afixos.dat\";\n",
    "    opt.ProbabilityFile = lpath + \"probabilitats.dat\"; \n",
    "    opt.DictionaryFile = lpath + \"dicc.src\";\n",
    "    opt.NPdataFile = lpath + \"np.dat\"; \n",
    "    opt.PunctuationFile = lpath + \"../common/punct.dat\"; \n",
    "    return opt;\n",
    "\n",
    "\n",
    "\n",
    "## ----------------------------------------------\n",
    "## -------------    MAIN PROGRAM  ---------------\n",
    "## ----------------------------------------------\n",
    "\n",
    "# set locale to an UTF8 compatible locale \n",
    "pyfreeling.util_init_locale(\"default\");\n",
    "\n",
    "# get requested language from arg1, or English if not provided      \n",
    "lang = \"en\"\n",
    "if len(sys.argv)>1 : lang=sys.argv[1]\n",
    "\n",
    "# get installation path to use from arg2, or use /usr/local if not provided\n",
    "ipath = \"/usr/local\";\n",
    "if len(sys.argv)>2 : ipath=sys.argv[2]\n",
    "\n",
    "# path to language data   \n",
    "lpath = ipath + \"/share/freeling/\" + lang + \"/\"\n",
    "\n",
    "# create analyzers\n",
    "tk=pyfreeling.tokenizer(lpath+\"tokenizer.dat\");\n",
    "sp=pyfreeling.splitter(lpath+\"splitter.dat\");\n",
    "\n",
    "# create the analyzer with the required set of maco_options  \n",
    "morfo=pyfreeling.maco(my_maco_options(lang,lpath));\n",
    "#  then, (de)activate required modules   \n",
    "morfo.set_active_options (False,  # UserMap \n",
    "                          True,  # NumbersDetection,  \n",
    "                          True,  # PunctuationDetection,   \n",
    "                          True,  # DatesDetection,    \n",
    "                          True,  # DictionarySearch,  \n",
    "                          True,  # AffixAnalysis,  \n",
    "                          False, # CompoundAnalysis, \n",
    "                          True,  # RetokContractions,\n",
    "                          True,  # MultiwordsDetection,  \n",
    "                          True,  # NERecognition,     \n",
    "                          False, # QuantitiesDetection,  \n",
    "                          True); # ProbabilityAssignment                 \n",
    "\n",
    "# create tagger\n",
    "tagger = pyfreeling.hmm_tagger(lpath+\"tagger.dat\",True,2)\n",
    "\n",
    "# process input text\n",
    "text = \"\".join(sys.stdin.readlines())\n",
    "\n",
    "# tokenize input line into a list of words\n",
    "lw = tk.tokenize(text)\n",
    "# split list of words in sentences, return list of sentences\n",
    "ls = sp.split(lw)\n",
    "\n",
    "# perform morphosyntactic analysis and disambiguation\n",
    "ls = morfo.analyze(ls)\n",
    "ls = tagger.analyze(ls)\n",
    "\n",
    "# do whatever is needed with processed sentences   \n",
    "ProcessSentences(ls)"
   ]
  },
  {
   "cell_type": "code",
   "execution_count": 2,
   "metadata": {},
   "outputs": [
    {
     "name": "stdout",
     "output_type": "stream",
     "text": [
      "Requirement already satisfied: pyfreeling in /home/chafa/.pyenv/versions/3.6.5/envs/freelingenv/lib/python3.6/site-packages (0.1.1)\r\n",
      "Requirement already satisfied: lxml in /home/chafa/.pyenv/versions/3.6.5/envs/freelingenv/lib/python3.6/site-packages (from pyfreeling) (4.4.1)\r\n"
     ]
    }
   ],
   "source": [
    "! pip3 install pyfreeling\n"
   ]
  },
  {
   "cell_type": "code",
   "execution_count": 5,
   "metadata": {},
   "outputs": [
    {
     "name": "stdout",
     "output_type": "stream",
     "text": [
      "Python 3.6.5\r\n"
     ]
    }
   ],
   "source": [
    "! python --version"
   ]
  },
  {
   "cell_type": "code",
   "execution_count": null,
   "metadata": {},
   "outputs": [],
   "source": []
  }
 ],
 "metadata": {
  "kernelspec": {
   "display_name": "Python 3",
   "language": "python",
   "name": "python3"
  },
  "language_info": {
   "codemirror_mode": {
    "name": "ipython",
    "version": 3
   },
   "file_extension": ".py",
   "mimetype": "text/x-python",
   "name": "python",
   "nbconvert_exporter": "python",
   "pygments_lexer": "ipython3",
   "version": "3.6.8"
  }
 },
 "nbformat": 4,
 "nbformat_minor": 2
}
