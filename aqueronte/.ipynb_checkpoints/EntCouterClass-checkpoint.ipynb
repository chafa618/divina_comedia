{
 "cells": [
  {
   "cell_type": "code",
   "execution_count": 7,
   "metadata": {},
   "outputs": [],
   "source": [
    "import re \n",
    "import json\n",
    "import argparse\n",
    "\n",
    "class Counter_entities(object):\n",
    "    \"\"\"\n",
    "    Count ent ocurrences for intent in file. The order of ents matters\n",
    "    \"\"\"\n",
    "    \n",
    "    def __init__(self, path):\n",
    "        self.json_path = path\n",
    "        \n",
    "    \n",
    "    def load_json(self):\n",
    "        with open(self.json_path) as f:\n",
    "            archivo = json.load(f)\n",
    "        return archivo\n",
    "        \n",
    "    def get_keys(self):\n",
    "        open_file = self.load_json()\n",
    "        \n",
    "        entidadRe = re.compile(r'\\[.+?\\]')\n",
    "        entidades = []\n",
    "        dic = {}\n",
    "\n",
    "        for intent in open_file['intents'].keys():\n",
    "            dic[intent] = []\n",
    "\n",
    "            for utterance in open_file['intents'][intent]:\n",
    "                ent = re.findall(entidadRe,utterance)\n",
    "\n",
    "                if len(ent) >= 1:  \n",
    "                    dic[intent].append(ent)\n",
    "        return dic\n",
    "\n",
    "    def count_ents_for_intent(self):\n",
    "        claves = self.get_keys()\n",
    "\n",
    "        output = {}\n",
    "        for intent in claves:\n",
    "            output[intent] = {}\n",
    "\n",
    "            for utt in claves[intent]:\n",
    "                #print(utt)\n",
    "                key = \",\".join(claves[intent][claves[intent].index(utt)])\n",
    "                output[intent][key] = claves[intent].count(utt) \n",
    "\n",
    "        return output\n",
    "    \n",
    "    def save(self):\n",
    "        with open('output.json', 'w') as file:\n",
    "            json.dump(output, file, indent=4)\n"
   ]
  },
  {
   "cell_type": "code",
   "execution_count": 8,
   "metadata": {},
   "outputs": [
    {
     "name": "stderr",
     "output_type": "stream",
     "text": [
      "usage: ipykernel_launcher.py [-h] path\n",
      "ipykernel_launcher.py: error: unrecognized arguments: -f\n"
     ]
    },
    {
     "ename": "SystemExit",
     "evalue": "2",
     "output_type": "error",
     "traceback": [
      "An exception has occurred, use %tb to see the full traceback.\n",
      "\u001b[0;31mSystemExit\u001b[0m\u001b[0;31m:\u001b[0m 2\n"
     ]
    }
   ],
   "source": [
    "if __name__ == \"__main__\":\n",
    "    parser = argparse.ArgumentParser()\n",
    "    parser.add_argument('path')\n",
    "    args = parser.parse_args()\n",
    "    Counter_entities(args.path).count_ents_for_intent()"
   ]
  },
  {
   "cell_type": "code",
   "execution_count": 5,
   "metadata": {},
   "outputs": [
    {
     "name": "stdout",
     "output_type": "stream",
     "text": [
      "hola\n"
     ]
    }
   ],
   "source": []
  },
  {
   "cell_type": "code",
   "execution_count": null,
   "metadata": {},
   "outputs": [],
   "source": []
  }
 ],
 "metadata": {
  "kernelspec": {
   "display_name": "Python 3",
   "language": "python",
   "name": "python3"
  },
  "language_info": {
   "codemirror_mode": {
    "name": "ipython",
    "version": 3
   },
   "file_extension": ".py",
   "mimetype": "text/x-python",
   "name": "python",
   "nbconvert_exporter": "python",
   "pygments_lexer": "ipython3",
   "version": "3.6.5"
  }
 },
 "nbformat": 4,
 "nbformat_minor": 4
}
