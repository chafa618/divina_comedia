{
 "cells": [
  {
   "cell_type": "code",
   "execution_count": 38,
   "metadata": {},
   "outputs": [],
   "source": [
    "import re\n",
    "import EntCouterClass\n",
    "from num2words import num2words\n",
    "from c1 import preprocessing_functions as pre"
   ]
  },
  {
   "cell_type": "code",
   "execution_count": 32,
   "metadata": {},
   "outputs": [],
   "source": [
    "with open(\"/home/fernando/maite-ocr-process/metricas/out/ctto2/details/V106.txt\") as file:\n",
    "    ocr = file.read()\n"
   ]
  },
  {
   "cell_type": "code",
   "execution_count": 68,
   "metadata": {},
   "outputs": [
    {
     "data": {
      "text/plain": [
       "'863384'"
      ]
     },
     "execution_count": 68,
     "metadata": {},
     "output_type": "execute_result"
    }
   ],
   "source": [
    "def no_enter(string):\n",
    "    return re.sub(r'\\n', ' ', string)\n",
    "def sarasa(num_str):\n",
    "    return num_str.replace('.', '')"
   ]
  },
  {
   "cell_type": "code",
   "execution_count": 60,
   "metadata": {
    "collapsed": true,
    "jupyter": {
     "outputs_hidden": true
    }
   },
   "outputs": [
    {
     "data": {
      "text/plain": [
       "'visado nyc ¿ = adenda por renovacion n k3440 — ezpeleta 6 - arba10089 ] entre telefonica moviles argentina s.a., con domicilio en av. independencia n* 169, planta baja, ciudad autonoma de buenos aires, representada en este acto por sus apoderados con facultades suficientes que suscriben al pie (en adelante, la “locataria”), por una parte y; por otra parte, carlos antonio avalos cardozo, dni n* 92.152.193, cuit n* 20- 92192193-7, con domicilio en la calle costa rica n” 2390, localidad de ezpeleta, partido de quilmes, provincia de buenos aires (en lo sucesivo, la “locadora” y; en conjunto, las \"partes\", : y considerando: ; a. que con fecha 24 (veinticuatro) de septiembre del 2014, las partes celebraron un contrato : de locacion (en lo sucesivo, el “contrato” por un sector ubicado en el inmueble sito en la calle costa rica n* 2390, localidad de ezpeleta, partido de quilmes, provincia de buenos aires (en adelante el “inmueble”; b. que el plazo de vigencia del contrato finalizo el 31 (treinta y uno) de diciembre del 2019 y; c. que las partes han mantenido conversaciones previas de las que resulta la intencion de renovar el contrato. - por ello, las partes convienen celebrar la presente adenda (en adelante, la “adenda”, sujeta a las siguientes clausulas y condiciones: t. objeto —- renovacion las partes convienen en renovar el contrato por 36 (treinta y seis) meses, corridos y contados a partir del 1* (primero) de enero del 2020, motivo por el cual el plazo de vigencia del contrato se extendera al 31 (treinta y uno) de diciembre del 2022 (en adelante, el “plazo”. 2. precio y forma de pago 2.1 el precio total de la adenda se pacta en la suma de $884.520 (pesos argentinos ochocientos ochenta y cuatro mil quinientos veinte), con mas el impuesto al valor agregado (iva), en caso de corresponder (en adelante, el “precio”. 2.2 las partes acuerdan que los pagos del precio quedan dispuestos de la siguiente forma: (1) una primer cuota anual por la suma de $243.000 (pesos argentinos doscientos cuarenta y tres mil) (en adelante, el “primer pago”); (ii) una segunda cuota anual por la suma de $291.600 (pesos argentinos doscientos noventa y un mil seiscientos) y; (lll) una tercer cuota anual por la suma de $349.920 (pesos argentinos trescientos cuarenta y nueve mil novecientos veinte), todas con mas el impuesto al valor agregado (iva), en caso de corresponder. 2.3 en cuanto a la forma de pago del precio, las partes estipulan que la locataria abonara a la locadora periodos de 12 (doce) meses por adelantado. el primer pago del precio tendra lugar dentro de los 60 (sesenta) dias desde la firma de la presente adenda, y el de las cuotas anuales visado nyg posteriores, cada 385 (trescientos sesenta y cinco) dias de iniciado el plazo; y asi sucesivamente, hasta la extincion del plazo o la rescision del contrato.  2.4 el pago del precio se hara en pesos mediante deposito bancario en la cuenta que en este acto designa la locadora: banco de la provincia de buenos aires, sucursal 5087 quilmes centro, cuenta corriente en pesos n* 5087-50776/1, a nombre de carlos antonio avalos cardozo, cbu n* 0140027401508705077613 y cuit n* 20-92152193-7. las partes pactan que -a todos los efectos legales- el comprobante del deposito extendido por el banco depositario, servira de suficiente recibo y carta de pago del precio.  2.5 la locadora se obliga a entregar a la locataria la/s factura/s correspondiente/s con una antelacion minima de 10 (diez) dias habiles bancarios a la fecha de vencimiento del plazo para el pago. en caso de no presentar en tiempo y forma la factura, la locadora quedara constituida en mora automaticamente, quedando en consecuencia la locataria facultada a retener los pagos hasta tanto la locadora no de efectivo cumplimiento a su obligacion; y reservandose la locataria el derecho de consignar judicialmente las sumas del precio pactadas sin necesidad de interpelacion previa.  en cualquier caso, el plazo estipulado para el pago, sera prorrogado por la misma cantidad de dias en que la locadora hubiera demorado la entrega de la/s factura/s. la facturacion debera cumplir con los requisitos y procedimientos establecidos en el anexo l.  3, energia  las partes pactan que la locataria reintegrara a la locadora en concepto de energia la suma anual de $178.464 (pesos argentinos ciento setenta y ocho mil cuatrocientos sesenta y cuatro). 4, obligaciones de la locadora  adicionalmente a lo establecido en el contrato, por la presente la locadora se obliga a:  4.1 permitir el paso, a traves de cualquier ambito del inmueble y/o del sector, al personal de la locataria y/o a sus contratistas y/o a cualquier tercero autorizado por la locataria, en forma ininterrumpida, las 24 (veinticuatro) horas del dia, los 7 (siete) dias de la semana durante la vigencia del contrato y; a no interrumpir bajo ninguna circunstancia la provision de la energia necesaria para el funcionamiento de los equipos.  4.2 en caso de que la locadora interrumpiera la provision de energia y/o no se permitiera el : acceso al inmueble o al sector, de conformidad con lo establecido en esta clausula, la locadora debera abonar, en concepto de clausula penal, una multa diaria de equivalente al doble del valor locativo diario desde el dia en que se interrumpiera la provision de energia y/o se prohibiera el ingreso segun el caso-, hasta el dia en que se restablezca la energia y/o la locataria pueda ingresar al sector. estos fondos seran depositados en la cuenta que la locataria indique.  4.3 la locadora acepta y reconoce que los equipos a ser instalados en el inmueble seran destinados por locataria a la prestacion de servicio de interes publico de telecomunicaciones; y que la interrupcion del funcionamiento de los mismos por parte de cualquier persona no autorizada yisado nyg previamente por la locataria sera pasible de la correspondiente denuncia penal en los terminos de los articulos 194, 197 y concordantes del codigo penal, y del reclamo de los danos y perjuicios que correspondan. 4.4 la locadora se obliga a notificar fehacientemente a la locataria cualquier modificacion de los datos estipulados en el contrato y la presente adenda (datos bancarios, condicion fiscal, cambio de titularidad, y cualquier otro dato concerniente a la facturacion o pago). el incumplimiento a lo aqui establecido obstara al pago de los canones locativos por parte de la locataria, no considerandose por tanto en mora a su obligacion de pago hasta tanto la locadora de efectivo cumplimiento a dicha obligacion. 4.5 en el eventual caso que resultare necesario la realizacion de obras y/o reparaciones sobre el inmueble como consecuencia de la actividad de la locataria, las partes suscribiran las actas : correspondientes de presupuesto y/o final de obra, segun corresponda. - 46 la locadora declara conocer, y se obliga a cumplir, la normativa sobre lucha contra la corrupcion, para lo cual suscribe simultaneamente con este contrato, el anexo a (“certificado anticorrupcion de proveedor de telefonica”) y el anexo b (\"cumplimiento de las leyes anti- corrupcion”). 5. impuesto de sellos para el caso de corresponder tributar el impuesto de sellos, el mismo sera soportado por la locataria. a tal fin la base imponible se fija en la suma de ochocientos ochenta y cuatro mil quinientos veinte en concepto de canon locativo total y $884. 520 (pesos argentinos ochocientos ochenta y cuatro mil quinientos veinte) por reintegro total de gastos de energia. 6. vigencia del contrato en todo lo no modificado por la presente adenda, las partes ratifican la plena vigencia de todas las clausulas y condiciones establecidas en el contrato. en prueba de conformidad, se firman 2 (dos) ejemplares de un mismo tenor y a un unico efecto, en la ciudad de ,alos___ dias del mes de del 2019. firma locadora firma locataria visado nyg anexo 1  5 las facturas deberan ser emitidas a nombre de telefonica moviles argentina s.a.; cult. n* 30-67881435-7; ingresos brutos convenio multilateral n? 901-178425-4; domicilio legal: av. independencia n* 169, planta baja, caba, cp c1099aab.  o cada locador debera estar registrado y dado de alta en una aplicacion web llamada !  “mercurio”. el link de aplicacion es: htips://canales.movistar.com.ar/web/login-general.  9 tma proveera mediante esta aplicacion la informacion necesaria para que cada locador pueda facturar los montos que correspondan.  o los datos para facturar constan de unos codigos de numeros (numero de pedido y numero de hoja de entrada). una vez generados los datos y estar disponibles en mercurio para emision de factura, cada locador recibira una notificacion en su correo electronico y en su celular (si es que tiene linea de movistar).  a si el locador cuenta con factura electronica, debera consignar en el cuerpo de la factura todos los datos enviados a la direccion de mail y subir la factura a la pagina mediante la emision de un ticket.  o si el locador cuenta con factura manual debera generar el ticket en la pagina web, y consignar manualmente en el cuerpo de la factura los datos enviados (numero de pedido y numero de hoja de entrada) y el numero de ticket web que genere. una vez emitida la factura con estos datos, debera presentarla personalmente o por correo en en el sector de cuentas a pagar, sito en iguazu n* 341, parque patricios cp 1437 - capital federal, los dias lunes a viernes en el horario de 9.30 a 13 hs. y 14.30 a 16.30 hs.  o los proveedores del interior del pais podran enviar las facturas por correo a dicha direccion, con acuse de recibo.  0 las facturas que no cumplan con todos los requisitos mencionados, no seran aceptadas  por la ventanilla unica, adjuntandose nota aclaratoria. el plazo para el pago se computara a partir de la nueva presentacion que se realice.  j el plazo para el pago del precio sera de 10 (diez) dias habiles luego de presentada y |  aceptada la factura en el area de cuentas a pagar. informacion sobre los pagos para obtener informacion, debera ingresar a la aplicacion donde podra visualizar no solo si se encuentran disponibles sus datos para facturar, sino que tambien podra realizar el seguimiento del pago hasta que se emita la transferencia o el cheque. de mediar algun inconveniente con el sistema, escribir por whatsapp a la linea exclusiva de atencion a locadores: +5491169331952 o en el sitio web. visado knyc telefonica anexo a certificado anticorrupcion de proveedor de telefonica este certificado debe ser integramente cumplimentado y firmado por cualquier persona que desee establecer una relacion comercial, u otro tipo de relacion de negocio o colaboracion, para la prestacion de servicios o suministro de bienes o derechos a alguna(s) de las sociedades del grupo telefonica, bajo el modelo de compras de este ultimo (en adelante, el “declarante”. la no cumplimentacion de este certificado o alguno de los espacios requeridos podra suponer que el declarante sea descalificado de alguno(s) y/o todos los procesos de contratacion de telefonica, y podra igualmente suponer que el declarante sea excluido de la posibilidad de ser considerado como un proveedor potencial de telefonica para la prestacion de servicios, derechos y/o bienes. por favor, lea atentamente todos los campos e informacion requeridos a continuacion y responda a todas las preguntas y espacios, tal y como se indica. visado nyg parte 1 . informacion del declarante | a) nombre y apellidos: carlos antonio avalos cardozo b) direccion postal profesional: calle costa rica n* 2390, localidad de ezpeleta, partido de quilmes, provincia de buenos aires codigo postal: c) telefono: 1130028500 d) faxn/d e) correo electronico: carlosavalos86ghotmail. com f cuit: 20-92152193-7 visado nyg parte 2: declaracion declaro que, conforme a mi mejor saber y entender, la informacion facilitada anteriormente, asi como las declaraciones efectuadas a continuacion, son correctas e integras. efectuo esta declaracion como prueba de mi compromiso de cumplir con toda la legislacion anticorrupcion que resulte de aplicacion. certifico que conozco y acepto cumplir con todas las leyes, estatutos, regulaciones y codigos aplicables en aquellas jurisdicciones donde el negocio se lleve a cabo, con respecto a la prestacion de servicios, derechos y/o bienes a telefonica, a fin de combatir la corrupcion, incluido pero no limitado a la ley de practicas corruptas en el extranjero de los estados unidos (todas aquellas leyes en su caso aplicables referidas conjuntamente de ahora en adelante como la “normativa anticorrupcion”), tal y como se dispone en la clausula anticorrupcion prevista en las condiciones generales para la prestacion de servicios y el suministro de bienes a telefonica, s.a. y sociedades de su grupo! (en adelante, la “clausula anticorrupcion”). acepto y me comprometo a colaborar de buena fe en cualquier investigacion llevada a cabo por telefonica y sus auditores, abogados y representantes, en caso de que se produzca alguna presunta violacion de la normativa anticorrupcion y/o de la clausula anticorrupcion. entiendo que, en el caso de que sea probado que la informacion declarada anteriormente sea materialmente incorrecta, y/o que se haya vulnerado significativamente alguna de las manifestaciones efectuadas en esta declaracion, telefonica tendra el derecho de resolver de forma inmediata alguno(s) o todos los contratos suscritos con el declarante. acepto notificar inmediatamente a telefonica en caso de que las declaraciones e informacion facilitadas en el presente documento varien o, de algun modo, devengan invalidas. entiendo que telefonica puede requerirme a certificar de nuevo las declaraciones expuestas anteriormente en este certificado (y/o adicionales/distintas declaraciones) en el futuro. firmado por nombre: : fecha: 1 a ser anadido en aquellos casos en los que no se aplique el modelo de compras: “...y/o en la clausula anticorrupcion a ser incluida eventualmente en cualquier acuerdo o contrato que pueda regular la relacion entre telefonica y el declarante”. visado nyg anexo b cumplimiento de las leyes anti-corrupcion 1.1 la locadora se compromete, reconoce y garantiza que: a) tanto la locadora, como en su caso, cualquiera de las sociedades o personas que la controlan, asi como las filiales de la locadora, sus socios, directivos, administradores, empleados y agentes relacionados de alguna manera con el compromiso relevante , cumpliran en todo momento durante el compromiso relevante (incluyendo, en su caso, la adquisicion de los productos y/o contenidos que estuvieren relacionados con el suministro de bienes y/o prestacion de servicios objeto de este acuerdo) con todas las leyes, estatutos, reglamentos y codigos aplicables en materia de lucha contra la corrupcion, incluyendo, en cualquier caso y sin limitacion, la ley de los estados unidos sobre practicas corruptas en el extranjero (colectivamente, “normativa sobre lucha contra la corrupcion”); b) con relacion al compromiso relevante, ni la locadora ni en su caso, ninguna de las sociedades o personas que la controlan, ni las filiales de la locadora, sus socios, directivos, administradores, empleados y agentes, ofreceran, prometeran o entregaran, ni a la fecha de entrada en vigor del presente acuerdo han ofrecido, prometido o entregado, directa o indirectamente, dinero u objetos de valor a (i) ningun “funcionario publico” a fin de influir en actuaciones de la autoridad o institucion publica o, de alguna forma, de obtener una ventaja indebida: (ii) cualquier otra persona, si se tiene conocimiento de que todo o parte del dinero u objeto de valor sera ofrecido o entregado a un funcionario publico para influir en actuaciones de la autoridad o institucion publica o, de alguna forma, obtener una ventaja indebida, o (ii) a cualquier otra persona, a fin de inducirle a actuar de manera desleal o, de cualquier modo, inapropiada; cc) la locadora, de resultarle aplicable, conservara y mantendra libros y registros financieros precisos y razonablemente detallados con relacion a este acuerdo y el compromiso relevante; o) la locadora, de resultarle aplicable, dispone de, y mantendra en vigor durante la vigencia de este acuerdo, politicas o procedimientos propios para garantizar el cumplimiento de la normativa sobre lucha contra la corrupcion, y suficientes para asegurar razonablemente que cualquier violacion de dicha normativa sobre lucha contra la. corrupcion se prevendra, detectara y disuadira; e) la locadora comunicara de inmediato a la locataria el eventual incumplimiento de cualquiera de sus obligaciones descritas en los parrafos (a), (b) y (c) de esta clausula 1.1. en dicho visado nys caso de incumplimiento, la locataria se reserva el derecho a exigir a la locadora la inmediata adopcion de medidas correctivas apropiadas.  h a efectos aclaratorios, las manifestaciones, garantias y compromisos de la locadora recogidos en esta clausula 1.1 seran aplicables de manera integra a cualesquiera terceros sujetos al control o influencia de la locadora, o que actuen en nombre de la locadora, con relacion al compromiso relevante; de forma que la locadora manifiesta que ha adoptado las medidas razonables para asegurar el cumplimiento de lo anterior por parte de dichos terceros. asimismo, ningun derecho u obligacion, asi como ningun servicio a ser prestado por la locadora, con relacion al compromiso relevante, sera cedido, transferido o subcontratado a cualquier tercero sin el previo consentimiento por escrito de la locataria; 9) la locadora certificara que cumple con esta clausula 1.1 periodicamente, segun sea requerido por la locataria. 1.2 incumplimiento. a) el incumplimiento de esta clausula 1 se considerara un incumplimiento grave de este acuerdo. en el caso de producirse dicho incumplimiento, salvo que el mismo fuera corregido segun lo dispuesto en el apartado 1.1.(e) de la presente clausula, este acuerdo podra ser inmediatamente suspendido o resuelto por la locataria, y cualquier reclamacion de pago de la locadora podra ser desestimada por la locataria. b) en la medida en que la ley lo permita, la locadora indemnizara y mantendra indemne a la locataria de todas y cada una de las reclamaciones, danos y perjuicios, perdidas, penalizaciones y costes (incluyendo, sin limitacion, los honorarios de abogados) y de cualquier gasto derivado de o relacionado con un incumplimiento por parte de la locadora de sus obligaciones contenidas en el apartado 1.1 de la presente clausula. 1.3 la locataria tendra el derecho de auditar el cumplimiento por parte de la locadora de sus - obligaciones y manifestaciones recogidos en el apartado 1.1 de la presente clausula. la locadora cooperara totalmente en cualquier auditoria, revision o investigacion realizada por, o en nombre de, la locataria. n x l | n, x a 4 '"
      ]
     },
     "execution_count": 60,
     "metadata": {},
     "output_type": "execute_result"
    }
   ],
   "source": [
    "ocr_n = pre.make_lowercase(ocr)\n",
    "ocr_n = pre.remove_diacritics(ocr_n)\n",
    "#ocr_n = pre.remove_punctuation(ocr_n)\n",
    "ocr_n = no_enter(ocr_n)\n",
    "ocr_n"
   ]
  },
  {
   "cell_type": "code",
   "execution_count": 35,
   "metadata": {},
   "outputs": [],
   "source": [
    "number_rg = re.compile(r'\\$(\\d{2,4}\\.\\d{2,4})\\s?\\((.+?)\\)')"
   ]
  },
  {
   "cell_type": "code",
   "execution_count": 69,
   "metadata": {},
   "outputs": [
    {
     "data": {
      "text/plain": [
       "str"
      ]
     },
     "execution_count": 69,
     "metadata": {},
     "output_type": "execute_result"
    }
   ],
   "source": [
    "lala = re.findall(number_rg, ocr_n)\n",
    "type(lala[0][0])"
   ]
  },
  {
   "cell_type": "code",
   "execution_count": 77,
   "metadata": {},
   "outputs": [
    {
     "name": "stdout",
     "output_type": "stream",
     "text": [
      "884520\n",
      "ochocientos ochenta y cuatro mil quinientos veinte\n",
      "pesos argentinos ochocientos ochenta y cuatro mil quinientos veinte\n",
      "243000\n",
      "doscientos cuarenta y tres mil\n",
      "pesos argentinos doscientos cuarenta y tres mil\n",
      "291600\n",
      "doscientos noventa y uno mil seiscientos\n",
      "pesos argentinos doscientos noventa y un mil seiscientos\n",
      "349920\n",
      "trescientos cuarenta y nueve mil novecientos veinte\n",
      "pesos argentinos trescientos cuarenta y nueve mil novecientos veinte\n",
      "178464\n",
      "ciento setenta y ocho mil cuatrocientos sesenta y cuatro\n",
      "pesos argentinos ciento setenta y ocho mil cuatrocientos sesenta y cuatro\n"
     ]
    }
   ],
   "source": [
    "for n_n, n_e in lala:\n",
    "    nconv = sarasa(n_n)\n",
    "    print(nconv)\n",
    "    a = num2words(nconv, lang='es')\n",
    "    print(a)\n",
    "    print(n_e)"
   ]
  },
  {
   "cell_type": "code",
   "execution_count": 62,
   "metadata": {},
   "outputs": [
    {
     "data": {
      "text/plain": [
       "'ochocientos ochenta y cuatro punto cinco dos'"
      ]
     },
     "execution_count": 62,
     "metadata": {},
     "output_type": "execute_result"
    }
   ],
   "source": [
    "num2words(884520, lang='es')"
   ]
  },
  {
   "cell_type": "code",
   "execution_count": 43,
   "metadata": {},
   "outputs": [
    {
     "name": "stdout",
     "output_type": "stream",
     "text": [
      "ochocientos ochenta y cuatro punto cinco dos\n"
     ]
    }
   ],
   "source": [
    "a = num2words(lala[0][0], lang='es)\n",
    "print(a)"
   ]
  },
  {
   "cell_type": "code",
   "execution_count": 8,
   "metadata": {},
   "outputs": [],
   "source": []
  },
  {
   "cell_type": "code",
   "execution_count": null,
   "metadata": {},
   "outputs": [],
   "source": []
  },
  {
   "cell_type": "code",
   "execution_count": null,
   "metadata": {},
   "outputs": [],
   "source": []
  }
 ],
 "metadata": {
  "kernelspec": {
   "display_name": "Python 3",
   "language": "python",
   "name": "python3"
  },
  "language_info": {
   "codemirror_mode": {
    "name": "ipython",
    "version": 3
   },
   "file_extension": ".py",
   "mimetype": "text/x-python",
   "name": "python",
   "nbconvert_exporter": "python",
   "pygments_lexer": "ipython3",
   "version": "3.6.5"
  }
 },
 "nbformat": 4,
 "nbformat_minor": 4
}
