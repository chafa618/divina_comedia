{
 "cells": [
  {
   "cell_type": "code",
   "execution_count": 11,
   "metadata": {},
   "outputs": [],
   "source": [
    "import re\n",
    "from num2words import num2words\n",
    "from c1 import preprocessing_functions as pre\n"
   ]
  },
  {
   "cell_type": "code",
   "execution_count": 12,
   "metadata": {},
   "outputs": [],
   "source": [
    "with open(\"/home/fernando/Escritorio/data/scrips/V1062.txt\") as file:\n",
    "    ocr = file.read()"
   ]
  },
  {
   "cell_type": "code",
   "execution_count": 13,
   "metadata": {},
   "outputs": [],
   "source": [
    "number_rg = re.compile(r'\\$(\\d{2,4}\\.\\d{2,4})\\s?\\((.+?)\\)')\n",
    "currency_rg = re.compile(r'pesos\\sargentinos\\s')\n",
    "\n",
    "def load_file(path):\n",
    "    with open(path) as file:\n",
    "        plaintxt = file.read()\n",
    "    return plaintxt\n",
    "\n",
    "def remove_new_line(string):\n",
    "    return re.sub(r'\\n', ' ', string)\n",
    "\n",
    "def remove_point_in_numb(string):\n",
    "    return string.replace('.', '')\n",
    "\n",
    "def clean_txt(string):\n",
    "    string_out = pre.make_lowercase(string)\n",
    "    string_out = pre.remove_diacritics(string_out)\n",
    "    string_out = remove_new_line(string_out)\n",
    "    return string_out\n",
    "\n",
    "def get_original_amounts(string):\n",
    "    tpl_amounts = re.findall(number_rg, string)\n",
    "    #amount_in_txt = re.search(number_rg, string)\n",
    "    return tpl_amounts\n",
    "\n"
   ]
  },
  {
   "cell_type": "code",
   "execution_count": 16,
   "metadata": {},
   "outputs": [
    {
     "name": "stdout",
     "output_type": "stream",
     "text": [
      "292.680 NO COINCIDE CON doscientos noventa y dos mil seiscientos\n"
     ]
    }
   ],
   "source": [
    "clean_ocr = clean_txt(ocr)\n",
    "test = get_original_amounts(clean_ocr)\n",
    "\n",
    "currency_rg = re.compile(r'pesos\\sargentinos\\s')\n",
    "\n",
    "for cifra, extension in test:\n",
    "    #j = re.sub(currency_rg, '', i)\n",
    "    cifra_ = re.sub('\\.', '', cifra)\n",
    "    n2w = num2words(cifra_, lang='es')\n",
    "    extension = re.sub(currency_rg, '', extension)\n",
    "    #print(n2w)\n",
    "    \n",
    "    if extension != n2w:\n",
    "        print(\"{} NO COINCIDE CON {}\".format(cifra, extension))\n",
    "    \n",
    "    \n",
    "    "
   ]
  },
  {
   "cell_type": "code",
   "execution_count": 5,
   "metadata": {},
   "outputs": [
    {
     "ename": "NameError",
     "evalue": "name 'convert_n2w' is not defined",
     "output_type": "error",
     "traceback": [
      "\u001b[0;31m---------------------------------------------------------------------------\u001b[0m",
      "\u001b[0;31mNameError\u001b[0m                                 Traceback (most recent call last)",
      "\u001b[0;32m<ipython-input-5-f53a83332e74>\u001b[0m in \u001b[0;36m<module>\u001b[0;34m\u001b[0m\n\u001b[1;32m      1\u001b[0m \u001b[0mcurrency_rg\u001b[0m \u001b[0;34m=\u001b[0m \u001b[0mre\u001b[0m\u001b[0;34m.\u001b[0m\u001b[0mcompile\u001b[0m\u001b[0;34m(\u001b[0m\u001b[0;34mr'pesos\\sargentinos\\s'\u001b[0m\u001b[0;34m)\u001b[0m\u001b[0;34m\u001b[0m\u001b[0m\n\u001b[0;32m----> 2\u001b[0;31m \u001b[0mconvert_n2w\u001b[0m\u001b[0;34m(\u001b[0m\u001b[0mcnumeros\u001b[0m\u001b[0;34m,\u001b[0m\u001b[0;34m)\u001b[0m\u001b[0;34m\u001b[0m\u001b[0m\n\u001b[0m",
      "\u001b[0;31mNameError\u001b[0m: name 'convert_n2w' is not defined"
     ]
    }
   ],
   "source": [
    "currency_rg = re.compile(r'pesos\\sargentinos\\s')\n",
    "convert_n2w(cnumeros,)"
   ]
  },
  {
   "cell_type": "code",
   "execution_count": null,
   "metadata": {},
   "outputs": [],
   "source": []
  },
  {
   "cell_type": "code",
   "execution_count": null,
   "metadata": {},
   "outputs": [],
   "source": [
    "def transform_n2w(lista_num, currency_rg):\n",
    "    output = []\n",
    "    for n_n, n_e in lista_num:\n",
    "        n_e = re.sub(currency_rg, '', n_e)\n",
    "        nconv = outp(n_n)\n",
    "        a = num2words(nconv, lang='es')\n",
    "        output.append(a)\n",
    "    return output"
   ]
  },
  {
   "cell_type": "code",
   "execution_count": null,
   "metadata": {},
   "outputs": [],
   "source": [
    "currency_rg = re.compile(r'pesos\\sargentinos\\s')\n",
    "transform_n2w(cnumeros, currency_rg)"
   ]
  },
  {
   "cell_type": "code",
   "execution_count": null,
   "metadata": {},
   "outputs": [],
   "source": [
    "import re\n",
    "numeroTelefonoRegex = re.compile(r'\\d\\d\\d\\d\\d\\d\\d\\d\\d\\d')\n",
    "mo = numeroTelefonoRegex.search('Mi número de celular es 1534234512')\n",
    "if mo:\n",
    "    print('Número de teléfono encontrado: ' + mo.group())\n",
    "else:\n",
    "    print('No se encontró un número de teléfono')"
   ]
  },
  {
   "cell_type": "code",
   "execution_count": null,
   "metadata": {},
   "outputs": [],
   "source": []
  },
  {
   "cell_type": "code",
   "execution_count": null,
   "metadata": {},
   "outputs": [],
   "source": [
    "import spacy\n",
    "nlp = spacy.load('es')"
   ]
  },
  {
   "cell_type": "code",
   "execution_count": null,
   "metadata": {},
   "outputs": [],
   "source": [
    "doc = nlp(ocr)"
   ]
  },
  {
   "cell_type": "code",
   "execution_count": null,
   "metadata": {},
   "outputs": [],
   "source": [
    "tokens = [token.text for token in doc]\n",
    "tokens\n",
    "tags = [token.tag_ for token in doc]\n",
    "tags"
   ]
  },
  {
   "cell_type": "code",
   "execution_count": null,
   "metadata": {},
   "outputs": [],
   "source": []
  }
 ],
 "metadata": {
  "kernelspec": {
   "display_name": "Python 3",
   "language": "python",
   "name": "python3"
  },
  "language_info": {
   "codemirror_mode": {
    "name": "ipython",
    "version": 3
   },
   "file_extension": ".py",
   "mimetype": "text/x-python",
   "name": "python",
   "nbconvert_exporter": "python",
   "pygments_lexer": "ipython3",
   "version": "3.6.5"
  }
 },
 "nbformat": 4,
 "nbformat_minor": 4
}
