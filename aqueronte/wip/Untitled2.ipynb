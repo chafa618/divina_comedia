{
 "cells": [
  {
   "cell_type": "code",
   "execution_count": 58,
   "metadata": {},
   "outputs": [
    {
     "data": {
      "text/plain": [
       "[{'value': 'película',\n",
       "  'e_type': 'ent.audiovisual_genre',\n",
       "  'start_index': 15,\n",
       "  'end_index': 23,\n",
       "  'canon': 'pelicula',\n",
       "  'label': 'MOV'},\n",
       " {'value': 'de miedo',\n",
       "  'e_type': 'ent.audiovisual_subgenre',\n",
       "  'start_index': 24,\n",
       "  'end_index': 32,\n",
       "  'canon': 'terror',\n",
       "  'label': 'terror'}]"
      ]
     },
     "execution_count": 58,
     "metadata": {},
     "output_type": "execute_result"
    }
   ],
   "source": [
    "obt = [\"{'_Entity__name': 'miedo', '_Entity__entity_type': 'ent.audiovisual_subgenre', '_Entity__score': 0.9115901757999229, '_Entity__start_index': 27, '_Entity__end_index': 32, '_Entity__canon': 'miedo', '_Entity__label': None, '_Entity__deep_links': None, '_Entity__order': 2}\", \"{'_Entity__name': 'película', '_Entity__entity_type': 'ent.audiovisual_genre', '_Entity__score': 0.9999999999999968, '_Entity__start_index': 15, '_Entity__end_index': 23, '_Entity__canon': 'pelicula', '_Entity__label': 'MOV', '_Entity__deep_links': None, '_Entity__order': 1}\"]\n",
    "exp = [{'value': 'película', 'e_type': 'ent.audiovisual_genre', 'start_index': 15, 'end_index': 23, 'canon': 'pelicula', 'label': 'MOV'}, {'value': 'de miedo', 'e_type': 'ent.audiovisual_subgenre', 'start_index': 24, 'end_index': 32, 'canon': 'terror', 'label': 'terror'}]\n",
    "exp"
   ]
  },
  {
   "cell_type": "code",
   "execution_count": 62,
   "metadata": {},
   "outputs": [
    {
     "data": {
      "text/plain": [
       "[\"{'_Entity__name': 'miedo', '_Entity__entity_type': 'ent.audiovisual_subgenre', '_Entity__score': 0.9115901757999229, '_Entity__start_index': 27, '_Entity__end_index': 32, '_Entity__canon': 'miedo', '_Entity__label': None, '_Entity__deep_links': None, '_Entity__order': 2}\",\n",
       " \"{'_Entity__name': 'película', '_Entity__entity_type': 'ent.audiovisual_genre', '_Entity__score': 0.9999999999999968, '_Entity__start_index': 15, '_Entity__end_index': 23, '_Entity__canon': 'pelicula', '_Entity__label': 'MOV', '_Entity__deep_links': None, '_Entity__order': 1}\"]"
      ]
     },
     "execution_count": 62,
     "metadata": {},
     "output_type": "execute_result"
    }
   ],
   "source": [
    "obt"
   ]
  },
  {
   "cell_type": "code",
   "execution_count": 57,
   "metadata": {},
   "outputs": [
    {
     "name": "stdout",
     "output_type": "stream",
     "text": [
      "<class 'dict'>\n",
      "película\n",
      "<class 'dict'>\n",
      "de miedo\n"
     ]
    }
   ],
   "source": [
    "import json\n",
    "\n",
    "for e in exp:\n",
    "    print(type(e)) ##EXP es ya dict\n",
    "    print(e['value'])"
   ]
  },
  {
   "cell_type": "code",
   "execution_count": 61,
   "metadata": {},
   "outputs": [
    {
     "ename": "AttributeError",
     "evalue": "'str' object has no attribute 'keys'",
     "output_type": "error",
     "traceback": [
      "\u001b[0;31m---------------------------------------------------------------------------\u001b[0m",
      "\u001b[0;31mAttributeError\u001b[0m                            Traceback (most recent call last)",
      "\u001b[0;32m<ipython-input-61-5f079d248de0>\u001b[0m in \u001b[0;36m<module>\u001b[0;34m\u001b[0m\n\u001b[1;32m      2\u001b[0m     \u001b[0masj\u001b[0m \u001b[0;34m=\u001b[0m \u001b[0mjson\u001b[0m\u001b[0;34m.\u001b[0m\u001b[0mdumps\u001b[0m\u001b[0;34m(\u001b[0m\u001b[0mo\u001b[0m\u001b[0;34m)\u001b[0m\u001b[0;34m\u001b[0m\u001b[0m\n\u001b[1;32m      3\u001b[0m \u001b[0;34m\u001b[0m\u001b[0m\n\u001b[0;32m----> 4\u001b[0;31m     \u001b[0mprint\u001b[0m\u001b[0;34m(\u001b[0m\u001b[0masj\u001b[0m\u001b[0;34m.\u001b[0m\u001b[0mkeys\u001b[0m\u001b[0;34m(\u001b[0m\u001b[0;34m)\u001b[0m\u001b[0;34m)\u001b[0m\u001b[0;34m\u001b[0m\u001b[0m\n\u001b[0m",
      "\u001b[0;31mAttributeError\u001b[0m: 'str' object has no attribute 'keys'"
     ]
    }
   ],
   "source": [
    "for o in obt:\n",
    "    "
   ]
  },
  {
   "cell_type": "code",
   "execution_count": null,
   "metadata": {},
   "outputs": [],
   "source": []
  }
 ],
 "metadata": {
  "kernelspec": {
   "display_name": "Python 3",
   "language": "python",
   "name": "python3"
  },
  "language_info": {
   "codemirror_mode": {
    "name": "ipython",
    "version": 3
   },
   "file_extension": ".py",
   "mimetype": "text/x-python",
   "name": "python",
   "nbconvert_exporter": "python",
   "pygments_lexer": "ipython3",
   "version": "3.6.5"
  }
 },
 "nbformat": 4,
 "nbformat_minor": 4
}
