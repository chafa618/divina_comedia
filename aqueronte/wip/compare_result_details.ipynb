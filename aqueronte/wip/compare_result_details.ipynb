{
 "cells": [
  {
   "cell_type": "code",
   "execution_count": 20,
   "metadata": {},
   "outputs": [],
   "source": [
    "import pandas as pd\n",
    "import re\n",
    "import json\n"
   ]
  },
  {
   "cell_type": "code",
   "execution_count": 21,
   "metadata": {},
   "outputs": [],
   "source": [
    "data = pd.read_csv('/home/fernando/Escritorio/datos/details_es-ar_mplay.csv', sep=';')\n",
    "#data = data.replace('None', 'null')"
   ]
  },
  {
   "cell_type": "code",
   "execution_count": 22,
   "metadata": {},
   "outputs": [
    {
     "data": {
      "text/html": [
       "<div>\n",
       "<style scoped>\n",
       "    .dataframe tbody tr th:only-of-type {\n",
       "        vertical-align: middle;\n",
       "    }\n",
       "\n",
       "    .dataframe tbody tr th {\n",
       "        vertical-align: top;\n",
       "    }\n",
       "\n",
       "    .dataframe thead th {\n",
       "        text-align: right;\n",
       "    }\n",
       "</style>\n",
       "<table border=\"1\" class=\"dataframe\">\n",
       "  <thead>\n",
       "    <tr style=\"text-align: right;\">\n",
       "      <th></th>\n",
       "      <th>phrase</th>\n",
       "      <th>different</th>\n",
       "      <th>intent_obtained</th>\n",
       "      <th>intent_expected</th>\n",
       "      <th>entities_obtained</th>\n",
       "      <th>entities_expected</th>\n",
       "      <th>domain_obtained</th>\n",
       "      <th>domain_expected</th>\n",
       "    </tr>\n",
       "  </thead>\n",
       "  <tbody>\n",
       "    <tr>\n",
       "      <td>0</td>\n",
       "      <td>Holu</td>\n",
       "      <td>I</td>\n",
       "      <td>None</td>\n",
       "      <td>intent.common.greetings</td>\n",
       "      <td>[]</td>\n",
       "      <td>[]</td>\n",
       "      <td>domain.common</td>\n",
       "      <td>domain.common</td>\n",
       "    </tr>\n",
       "    <tr>\n",
       "      <td>1</td>\n",
       "      <td>¿Dan algún programa de aventuras hoy?</td>\n",
       "      <td>E</td>\n",
       "      <td>intent.tv.content_get_info</td>\n",
       "      <td>intent.tv.content_get_info</td>\n",
       "      <td>[\"{'_Entity__name': 'hoy', '_Entity__entity_ty...</td>\n",
       "      <td>[{'value': 'programa', 'e_type': 'ent.audiovis...</td>\n",
       "      <td>domain.tv</td>\n",
       "      <td>domain.tv</td>\n",
       "    </tr>\n",
       "    <tr>\n",
       "      <td>2</td>\n",
       "      <td>¿Qué puedo ver mañana a las 8 de la noche por ...</td>\n",
       "      <td>E</td>\n",
       "      <td>intent.tv.content_get_info</td>\n",
       "      <td>intent.tv.content_get_info</td>\n",
       "      <td>[\"{'_Entity__name': 'a las 8 de la noche', '_E...</td>\n",
       "      <td>[{'value': 'mañana', 'e_type': 'ent.time_inter...</td>\n",
       "      <td>domain.tv</td>\n",
       "      <td>domain.tv</td>\n",
       "    </tr>\n",
       "    <tr>\n",
       "      <td>3</td>\n",
       "      <td>¿a las 3 de la tarde qué dan en la tele?</td>\n",
       "      <td>E</td>\n",
       "      <td>intent.tv.content_get_info</td>\n",
       "      <td>intent.tv.content_get_info</td>\n",
       "      <td>[\"{'_Entity__name': 'a las 3 de la tarde', '_E...</td>\n",
       "      <td>[{'value': 'a las 3 de la tarde', 'e_type': 'e...</td>\n",
       "      <td>domain.tv</td>\n",
       "      <td>domain.tv</td>\n",
       "    </tr>\n",
       "    <tr>\n",
       "      <td>4</td>\n",
       "      <td>Pasá la serie a la tele</td>\n",
       "      <td>E</td>\n",
       "      <td>intent.tv.display</td>\n",
       "      <td>intent.tv.display</td>\n",
       "      <td>[\"{'_Entity__name': 'tele', '_Entity__entity_t...</td>\n",
       "      <td>[{'value': 'serie', 'e_type': 'ent.audiovisual...</td>\n",
       "      <td>domain.tv</td>\n",
       "      <td>domain.tv</td>\n",
       "    </tr>\n",
       "  </tbody>\n",
       "</table>\n",
       "</div>"
      ],
      "text/plain": [
       "                                              phrase different  \\\n",
       "0                                               Holu         I   \n",
       "1              ¿Dan algún programa de aventuras hoy?         E   \n",
       "2  ¿Qué puedo ver mañana a las 8 de la noche por ...         E   \n",
       "3           ¿a las 3 de la tarde qué dan en la tele?         E   \n",
       "4                            Pasá la serie a la tele         E   \n",
       "\n",
       "              intent_obtained             intent_expected  \\\n",
       "0                        None     intent.common.greetings   \n",
       "1  intent.tv.content_get_info  intent.tv.content_get_info   \n",
       "2  intent.tv.content_get_info  intent.tv.content_get_info   \n",
       "3  intent.tv.content_get_info  intent.tv.content_get_info   \n",
       "4           intent.tv.display           intent.tv.display   \n",
       "\n",
       "                                   entities_obtained  \\\n",
       "0                                                 []   \n",
       "1  [\"{'_Entity__name': 'hoy', '_Entity__entity_ty...   \n",
       "2  [\"{'_Entity__name': 'a las 8 de la noche', '_E...   \n",
       "3  [\"{'_Entity__name': 'a las 3 de la tarde', '_E...   \n",
       "4  [\"{'_Entity__name': 'tele', '_Entity__entity_t...   \n",
       "\n",
       "                                   entities_expected domain_obtained  \\\n",
       "0                                                 []   domain.common   \n",
       "1  [{'value': 'programa', 'e_type': 'ent.audiovis...       domain.tv   \n",
       "2  [{'value': 'mañana', 'e_type': 'ent.time_inter...       domain.tv   \n",
       "3  [{'value': 'a las 3 de la tarde', 'e_type': 'e...       domain.tv   \n",
       "4  [{'value': 'serie', 'e_type': 'ent.audiovisual...       domain.tv   \n",
       "\n",
       "  domain_expected  \n",
       "0   domain.common  \n",
       "1       domain.tv  \n",
       "2       domain.tv  \n",
       "3       domain.tv  \n",
       "4       domain.tv  "
      ]
     },
     "execution_count": 22,
     "metadata": {},
     "output_type": "execute_result"
    }
   ],
   "source": [
    "data.head()"
   ]
  },
  {
   "cell_type": "code",
   "execution_count": 23,
   "metadata": {},
   "outputs": [
    {
     "data": {
      "text/plain": [
       "\"[{'value': 'table 19', 'e_type': 'ent.audiovisual_film_title', 'start_index': 7, 'end_index': 15, 'canon': 'mesa 19', 'label': None}, {'value': 'tv', 'e_type': 'ent.device_tv', 'start_index': 22, 'end_index': 24, 'canon': 'tv', 'label': None}]\""
      ]
     },
     "execution_count": 23,
     "metadata": {},
     "output_type": "execute_result"
    }
   ],
   "source": [
    "info_entidad_obt = data[\"entities_obtained\"]\n",
    "info_entidad_exp = data[\"entities_expected\"]\n",
    "\n",
    "data.iloc[5]['entities_expected']"
   ]
  },
  {
   "cell_type": "code",
   "execution_count": 32,
   "metadata": {
    "collapsed": true,
    "jupyter": {
     "outputs_hidden": true
    }
   },
   "outputs": [
    {
     "name": "stdout",
     "output_type": "stream",
     "text": [
      "vaule hoy\n",
      "e_type ent.time_interval\n",
      "_Entity__score 0.9995670316588974\n",
      "start_index 32\n",
      "end_index 35\n",
      "canon hoy\n",
      "label +0d\n",
      "_Entity__deep_links None\n",
      "ent_id 2\n",
      "vaule de aventuras\n",
      "e_type ent.audiovisual_subgenre\n",
      "_Entity__score 0.9999997938873172\n",
      "start_index 19\n",
      "end_index 31\n",
      "canon aventura\n",
      "label aventura\n",
      "_Entity__deep_links None\n",
      "ent_id 1\n",
      "vaule a las 8 de la noche\n",
      "e_type ent.time_instant\n",
      "_Entity__score 0.9999999999982951\n",
      "start_index 21\n",
      "end_index 40\n",
      "canon a las 8 de la noche\n",
      "label None\n",
      "_Entity__deep_links None\n",
      "ent_id 2\n",
      "vaule mañana\n",
      "e_type ent.time_interval\n",
      "_Entity__score 0.9999264939418726\n",
      "start_index 14\n",
      "end_index 20\n",
      "canon mañana\n",
      "label +1d\n",
      "_Entity__deep_links None\n",
      "ent_id 1\n",
      "vaule boomerang\n",
      "e_type ent.audiovisual_channel\n",
      "_Entity__score 0.9999999999994227\n",
      "start_index 45\n",
      "end_index 54\n",
      "canon boomerang\n",
      "label None\n",
      "_Entity__deep_links None\n",
      "ent_id 3\n",
      "vaule a las 3 de la tarde\n",
      "e_type ent.time_instant\n",
      "_Entity__score 0.999999999948791\n",
      "start_index 0\n",
      "end_index 19\n",
      "canon a las 3 de la tarde\n",
      "label None\n",
      "_Entity__deep_links None\n",
      "ent_id 1\n",
      "vaule tele\n",
      "e_type ent.device_tv\n",
      "_Entity__score 1.0\n",
      "start_index 34\n",
      "end_index 38\n",
      "canon tv\n",
      "label None\n",
      "_Entity__deep_links None\n",
      "ent_id 2\n",
      "vaule tele\n",
      "e_type ent.device_tv\n",
      "_Entity__score 1.0\n",
      "start_index 19\n",
      "end_index 23\n",
      "canon tv\n",
      "label None\n",
      "_Entity__deep_links None\n",
      "ent_id 2\n",
      "vaule serie a\n",
      "e_type ent.audiovisual_sports_season\n",
      "_Entity__score 0.9999791850228912\n",
      "start_index 8\n",
      "end_index 15\n",
      "canon serie a\n",
      "label None\n",
      "_Entity__deep_links None\n",
      "ent_id 1\n",
      "vaule la cuna\n",
      "e_type ent.audiovisual_tvshow_title\n",
      "_Entity__score 0.99969741011765\n",
      "start_index 30\n",
      "end_index 37\n",
      "canon la cuna\n",
      "label None\n",
      "_Entity__deep_links None\n",
      "ent_id 2\n",
      "vaule tumba\n",
      "e_type ent.audiovisual_sports_season\n",
      "_Entity__score 0.9920934886535258\n",
      "start_index 43\n",
      "end_index 48\n",
      "canon tumba\n",
      "label None\n",
      "_Entity__deep_links None\n",
      "ent_id 3\n",
      "vaule tele\n",
      "e_type ent.device_tv\n",
      "_Entity__score 1.0\n",
      "start_index 55\n",
      "end_index 59\n",
      "canon tv\n",
      "label None\n",
      "_Entity__deep_links None\n",
      "ent_id 4\n",
      "vaule documental\n",
      "e_type ent.audiovisual_genre\n",
      "_Entity__score 0.9999999957420254\n",
      "start_index 16\n",
      "end_index 26\n",
      "canon documental\n",
      "label DOC\n",
      "_Entity__deep_links None\n",
      "ent_id 1\n",
      "vaule monos\n",
      "e_type ent.audiovisual_film_title\n",
      "_Entity__score 0.9938070257766329\n",
      "start_index 14\n",
      "end_index 19\n",
      "canon monos\n",
      "label None\n",
      "_Entity__deep_links None\n",
      "ent_id 2\n",
      "vaule 12\n",
      "e_type ent.audiovisual_film_title\n",
      "_Entity__score 0.9857813788054132\n",
      "start_index 11\n",
      "end_index 13\n",
      "canon 12\n",
      "label None\n",
      "_Entity__deep_links None\n",
      "ent_id 1\n",
      "vaule televisión\n",
      "e_type ent.device_tv\n",
      "_Entity__score 1.0\n",
      "start_index 26\n",
      "end_index 36\n",
      "canon tv\n",
      "label None\n",
      "_Entity__deep_links None\n",
      "ent_id 3\n",
      "vaule ahora\n",
      "e_type ent.time_instant\n",
      "_Entity__score 0.9999999873528976\n",
      "start_index 32\n",
      "end_index 37\n",
      "canon ahora\n",
      "label +0h\n",
      "_Entity__deep_links None\n",
      "ent_id 3\n",
      "vaule libertadores\n",
      "e_type ent.audiovisual_sports_season\n",
      "_Entity__score 0.9999999998471315\n",
      "start_index 7\n",
      "end_index 19\n",
      "canon libertadores\n",
      "label None\n",
      "_Entity__deep_links None\n",
      "ent_id 1\n",
      "vaule tele\n",
      "e_type ent.device_tv\n",
      "_Entity__score 1.0\n",
      "start_index 27\n",
      "end_index 31\n",
      "canon tv\n",
      "label None\n",
      "_Entity__deep_links None\n",
      "ent_id 2\n",
      "vaule tercer capítulo\n",
      "e_type ent.audiovisual_tv_episode_number\n",
      "_Entity__score 0.9999999999999994\n",
      "start_index 12\n",
      "end_index 27\n",
      "canon 3 capitulo\n",
      "label None\n",
      "_Entity__deep_links None\n",
      "ent_id 1\n",
      "vaule temporada 1 de runaways\n",
      "e_type ent.audiovisual_documental_title\n",
      "_Entity__score 0.9999367377092271\n",
      "start_index 34\n",
      "end_index 57\n",
      "canon temporada 1 de runaways\n",
      "label None\n",
      "_Entity__deep_links None\n",
      "ent_id 2\n",
      "vaule tele\n",
      "e_type ent.device_tv\n",
      "_Entity__score 1.0\n",
      "start_index 65\n",
      "end_index 69\n",
      "canon tv\n",
      "label None\n",
      "_Entity__deep_links None\n",
      "ent_id 3\n",
      "vaule Tiene la palabra\n",
      "e_type ent.audiovisual_tvshow_title\n",
      "_Entity__score 0.9861641515456803\n",
      "start_index 20\n",
      "end_index 36\n",
      "canon tiene la palabra\n",
      "label None\n",
      "_Entity__deep_links None\n",
      "ent_id 1\n",
      "vaule hoy killing lincoln\n",
      "e_type ent.audiovisual_tvshow_title\n",
      "_Entity__score 0.9737386265085278\n",
      "start_index 26\n",
      "end_index 45\n",
      "canon hoy killing lincoln\n",
      "label None\n",
      "_Entity__deep_links None\n",
      "ent_id 1\n",
      "vaule este sábado\n",
      "e_type ent.time_interval\n",
      "_Entity__score 0.9999999991406447\n",
      "start_index 33\n",
      "end_index 44\n",
      "canon sabado\n",
      "label 6W\n",
      "_Entity__deep_links None\n",
      "ent_id 2\n"
     ]
    },
    {
     "ename": "AttributeError",
     "evalue": "'str' object has no attribute 'items'",
     "output_type": "error",
     "traceback": [
      "\u001b[0;31m---------------------------------------------------------------------------\u001b[0m",
      "\u001b[0;31mJSONDecodeError\u001b[0m                           Traceback (most recent call last)",
      "\u001b[0;32m<ipython-input-32-92c2b12297e3>\u001b[0m in \u001b[0;36m<module>\u001b[0;34m\u001b[0m\n\u001b[1;32m     13\u001b[0m     \u001b[0;32mtry\u001b[0m\u001b[0;34m:\u001b[0m\u001b[0;34m\u001b[0m\u001b[0m\n\u001b[0;32m---> 14\u001b[0;31m         \u001b[0mjs\u001b[0m \u001b[0;34m=\u001b[0m \u001b[0mjson\u001b[0m\u001b[0;34m.\u001b[0m\u001b[0mloads\u001b[0m\u001b[0;34m(\u001b[0m\u001b[0mo\u001b[0m\u001b[0;34m)\u001b[0m\u001b[0;34m\u001b[0m\u001b[0m\n\u001b[0m\u001b[1;32m     15\u001b[0m         \u001b[0;31m#print(js)\u001b[0m\u001b[0;34m\u001b[0m\u001b[0;34m\u001b[0m\u001b[0m\n",
      "\u001b[0;32m~/.pyenv/versions/3.6.5/lib/python3.6/json/__init__.py\u001b[0m in \u001b[0;36mloads\u001b[0;34m(s, encoding, cls, object_hook, parse_float, parse_int, parse_constant, object_pairs_hook, **kw)\u001b[0m\n\u001b[1;32m    353\u001b[0m             parse_constant is None and object_pairs_hook is None and not kw):\n\u001b[0;32m--> 354\u001b[0;31m         \u001b[0;32mreturn\u001b[0m \u001b[0m_default_decoder\u001b[0m\u001b[0;34m.\u001b[0m\u001b[0mdecode\u001b[0m\u001b[0;34m(\u001b[0m\u001b[0ms\u001b[0m\u001b[0;34m)\u001b[0m\u001b[0;34m\u001b[0m\u001b[0m\n\u001b[0m\u001b[1;32m    355\u001b[0m     \u001b[0;32mif\u001b[0m \u001b[0mcls\u001b[0m \u001b[0;32mis\u001b[0m \u001b[0;32mNone\u001b[0m\u001b[0;34m:\u001b[0m\u001b[0;34m\u001b[0m\u001b[0m\n",
      "\u001b[0;32m~/.pyenv/versions/3.6.5/lib/python3.6/json/decoder.py\u001b[0m in \u001b[0;36mdecode\u001b[0;34m(self, s, _w)\u001b[0m\n\u001b[1;32m    338\u001b[0m         \"\"\"\n\u001b[0;32m--> 339\u001b[0;31m         \u001b[0mobj\u001b[0m\u001b[0;34m,\u001b[0m \u001b[0mend\u001b[0m \u001b[0;34m=\u001b[0m \u001b[0mself\u001b[0m\u001b[0;34m.\u001b[0m\u001b[0mraw_decode\u001b[0m\u001b[0;34m(\u001b[0m\u001b[0ms\u001b[0m\u001b[0;34m,\u001b[0m \u001b[0midx\u001b[0m\u001b[0;34m=\u001b[0m\u001b[0m_w\u001b[0m\u001b[0;34m(\u001b[0m\u001b[0ms\u001b[0m\u001b[0;34m,\u001b[0m \u001b[0;36m0\u001b[0m\u001b[0;34m)\u001b[0m\u001b[0;34m.\u001b[0m\u001b[0mend\u001b[0m\u001b[0;34m(\u001b[0m\u001b[0;34m)\u001b[0m\u001b[0;34m)\u001b[0m\u001b[0;34m\u001b[0m\u001b[0m\n\u001b[0m\u001b[1;32m    340\u001b[0m         \u001b[0mend\u001b[0m \u001b[0;34m=\u001b[0m \u001b[0m_w\u001b[0m\u001b[0;34m(\u001b[0m\u001b[0ms\u001b[0m\u001b[0;34m,\u001b[0m \u001b[0mend\u001b[0m\u001b[0;34m)\u001b[0m\u001b[0;34m.\u001b[0m\u001b[0mend\u001b[0m\u001b[0;34m(\u001b[0m\u001b[0;34m)\u001b[0m\u001b[0;34m\u001b[0m\u001b[0m\n",
      "\u001b[0;32m~/.pyenv/versions/3.6.5/lib/python3.6/json/decoder.py\u001b[0m in \u001b[0;36mraw_decode\u001b[0;34m(self, s, idx)\u001b[0m\n\u001b[1;32m    354\u001b[0m         \u001b[0;32mtry\u001b[0m\u001b[0;34m:\u001b[0m\u001b[0;34m\u001b[0m\u001b[0m\n\u001b[0;32m--> 355\u001b[0;31m             \u001b[0mobj\u001b[0m\u001b[0;34m,\u001b[0m \u001b[0mend\u001b[0m \u001b[0;34m=\u001b[0m \u001b[0mself\u001b[0m\u001b[0;34m.\u001b[0m\u001b[0mscan_once\u001b[0m\u001b[0;34m(\u001b[0m\u001b[0ms\u001b[0m\u001b[0;34m,\u001b[0m \u001b[0midx\u001b[0m\u001b[0;34m)\u001b[0m\u001b[0;34m\u001b[0m\u001b[0m\n\u001b[0m\u001b[1;32m    356\u001b[0m         \u001b[0;32mexcept\u001b[0m \u001b[0mStopIteration\u001b[0m \u001b[0;32mas\u001b[0m \u001b[0merr\u001b[0m\u001b[0;34m:\u001b[0m\u001b[0;34m\u001b[0m\u001b[0m\n",
      "\u001b[0;31mJSONDecodeError\u001b[0m: Expecting property name enclosed in double quotes: line 1 column 3 (char 2)",
      "\nDuring handling of the above exception, another exception occurred:\n",
      "\u001b[0;31mAttributeError\u001b[0m                            Traceback (most recent call last)",
      "\u001b[0;32m<ipython-input-32-92c2b12297e3>\u001b[0m in \u001b[0;36m<module>\u001b[0;34m\u001b[0m\n\u001b[1;32m     22\u001b[0m \u001b[0;34m\u001b[0m\u001b[0m\n\u001b[1;32m     23\u001b[0m         \u001b[0;32mfor\u001b[0m \u001b[0mj\u001b[0m \u001b[0;32min\u001b[0m \u001b[0mjs\u001b[0m\u001b[0;34m:\u001b[0m\u001b[0;34m\u001b[0m\u001b[0m\n\u001b[0;32m---> 24\u001b[0;31m             \u001b[0;32mfor\u001b[0m \u001b[0mk\u001b[0m\u001b[0;34m,\u001b[0m \u001b[0mv\u001b[0m \u001b[0;32min\u001b[0m \u001b[0mj\u001b[0m\u001b[0;34m.\u001b[0m\u001b[0mitems\u001b[0m\u001b[0;34m(\u001b[0m\u001b[0;34m)\u001b[0m\u001b[0;34m:\u001b[0m\u001b[0;34m\u001b[0m\u001b[0m\n\u001b[0m\u001b[1;32m     25\u001b[0m                 \u001b[0mprint\u001b[0m\u001b[0;34m(\u001b[0m\u001b[0mk\u001b[0m\u001b[0;34m,\u001b[0m \u001b[0mv\u001b[0m\u001b[0;34m)\u001b[0m\u001b[0;34m\u001b[0m\u001b[0m\n\u001b[1;32m     26\u001b[0m \u001b[0;34m\u001b[0m\u001b[0m\n",
      "\u001b[0;31mAttributeError\u001b[0m: 'str' object has no attribute 'items'"
     ]
    }
   ],
   "source": [
    "for e in info_entidad_obt:\n",
    "    cambio = re.sub(r\"_Entity__name\", \"vaule\", e)\n",
    "    cambio = re.sub(r\"_Entity__entity_type\", \"e_type\", cambio)\n",
    "    cambio = re.sub(r\"_Entity__start_index\", \"start_index\", cambio)\n",
    "    cambio = re.sub(r\"_Entity__end_index\", \"end_index\", cambio)\n",
    "    cambio = re.sub(r\"_Entity__canon\", \"canon\", cambio)\n",
    "    cambio = re.sub(r\"_Entity__label\", \"label\", cambio)\n",
    "    cambio = re.sub(r\"_Entity__order\", \"ent_id\", cambio)\n",
    "\n",
    "    \n",
    "    o = re.sub('\\\"','', cambio)\n",
    "    #print(type(o))\n",
    "    try:\n",
    "        js = json.loads(o)\n",
    "        #print(js)\n",
    "    except:\n",
    "        u = re.sub('\\'','\\\"', o)\n",
    "        y = re.sub('None', 'null', u)\n",
    "        js = json.loads(y)\n",
    "        #print(js)\n",
    "        #print(type(js[0])) #obtengo dict\n",
    "        \n",
    "        for j in js:\n",
    "            for k, v in j.items():\n",
    "                print(k, v)\n",
    "\n",
    " "
   ]
  },
  {
   "cell_type": "code",
   "execution_count": 26,
   "metadata": {
    "collapsed": true,
    "jupyter": {
     "outputs_hidden": true
    }
   },
   "outputs": [
    {
     "name": "stdout",
     "output_type": "stream",
     "text": [
      "[]\n",
      "[{'value': 'programa', 'e_type': 'ent.audiovisual_genre', 'start_index': 10, 'end_index': 18, 'canon': 'programa', 'label': 'PROG'}, {'value': 'de aventuras', 'e_type': 'ent.audiovisual_subgenre', 'start_index': 19, 'end_index': 31, 'canon': 'aventura', 'label': 'aventura'}, {'value': 'hoy', 'e_type': 'ent.time_interval', 'start_index': 32, 'end_index': 35, 'canon': 'hoy', 'label': '+0d'}]\n",
      "[{'value': 'mañana', 'e_type': 'ent.time_interval', 'start_index': 14, 'end_index': 20, 'canon': 'mañana', 'label': '+1d'}, {'value': 'a las 8 de la noche', 'e_type': 'ent.time_instant', 'start_index': 21, 'end_index': 40, 'canon': 'a las 8 pm', 'label': '8h_pm'}, {'value': 'boomerang', 'e_type': 'ent.audiovisual_channel', 'start_index': 45, 'end_index': 54, 'canon': 'boomerang', 'label': None}]\n",
      "[{'value': 'a las 3 de la tarde', 'e_type': 'ent.time_instant', 'start_index': 0, 'end_index': 19, 'canon': 'a las 3 pm', 'label': '3h_pm'}, {'value': 'tele', 'e_type': 'ent.device_tv', 'start_index': 34, 'end_index': 38, 'canon': 'tv', 'label': None}]\n",
      "[{'value': 'serie', 'e_type': 'ent.audiovisual_genre', 'start_index': 8, 'end_index': 13, 'canon': 'serie', 'label': 'SER'}, {'value': 'tele', 'e_type': 'ent.device_tv', 'start_index': 19, 'end_index': 23, 'canon': 'tv', 'label': None}]\n",
      "[{'value': 'table 19', 'e_type': 'ent.audiovisual_film_title', 'start_index': 7, 'end_index': 15, 'canon': 'mesa 19', 'label': None}, {'value': 'tv', 'e_type': 'ent.device_tv', 'start_index': 22, 'end_index': 24, 'canon': 'tv', 'label': None}]\n",
      "[{'value': '12 monos', 'e_type': 'ent.audiovisual_film_title', 'start_index': 6, 'end_index': 14, 'canon': '12 monos', 'label': None}, {'value': 'tv', 'e_type': 'ent.device_tv', 'start_index': 21, 'end_index': 23, 'canon': 'tv', 'label': None}]\n",
      "[{'value': 'documental', 'e_type': 'ent.audiovisual_genre', 'start_index': 16, 'end_index': 26, 'canon': 'documental', 'label': 'DOC'}, {'value': 'de la cuna a la tumba', 'e_type': 'ent.audiovisual_documental_title', 'start_index': 27, 'end_index': 48, 'canon': 'de la cuna a la tumba', 'label': None}, {'value': 'tele', 'e_type': 'ent.device_tv', 'start_index': 55, 'end_index': 59, 'canon': 'tv', 'label': None}]\n",
      "[{'value': '12 monos', 'e_type': 'ent.audiovisual_film_title', 'start_index': 11, 'end_index': 19, 'canon': '12 monos', 'label': None}, {'value': 'televisión', 'e_type': 'ent.device_tv', 'start_index': 26, 'end_index': 36, 'canon': 'tv', 'label': None}]\n",
      "[{'value': 'predator 2', 'e_type': 'ent.audiovisual_film_title', 'start_index': 11, 'end_index': 21, 'canon': 'depredador 2', 'label': None}, {'value': 'tele', 'e_type': 'ent.device_tv', 'start_index': 28, 'end_index': 32, 'canon': 'tv', 'label': None}]\n",
      "[{'value': 'la libertadores', 'e_type': 'ent.audiovisual_sports_season', 'start_index': 4, 'end_index': 19, 'canon': 'copa libertadores', 'label': None}, {'value': 'tele', 'e_type': 'ent.device_tv', 'start_index': 27, 'end_index': 31, 'canon': 'tv', 'label': None}, {'value': 'ahora', 'e_type': 'ent.time_instant', 'start_index': 32, 'end_index': 37, 'canon': 'ahora', 'label': '+0h'}]\n",
      "[{'value': 'tercer capítulo', 'e_type': 'ent.audiovisual_tv_episode_number', 'start_index': 12, 'end_index': 27, 'canon': '3 capitulo', 'label': None}, {'value': 'temporada 1', 'e_type': 'ent.audiovisual_tv_season_number', 'start_index': 34, 'end_index': 45, 'canon': '1 temporada', 'label': None}, {'value': 'runaways', 'e_type': 'ent.audiovisual_tvseries_title', 'start_index': 49, 'end_index': 57, 'canon': 'runaways', 'label': None}, {'value': 'tele', 'e_type': 'ent.device_tv', 'start_index': 65, 'end_index': 69, 'canon': 'tv', 'label': None}]\n",
      "[{'value': 'Tiene la palabra', 'e_type': 'ent.audiovisual_tvshow_title', 'start_index': 20, 'end_index': 36, 'canon': 'tiene la palabra', 'label': None}, {'value': 'hoy', 'e_type': 'ent.time_interval', 'start_index': 37, 'end_index': 40, 'canon': 'hoy', 'label': '+0d'}]\n",
      "[{'value': 'hoy', 'e_type': 'ent.time_interval', 'start_index': 26, 'end_index': 29, 'canon': 'hoy', 'label': '+0d'}, {'value': 'killing lincoln', 'e_type': 'ent.audiovisual_tvshow_title', 'start_index': 30, 'end_index': 45, 'canon': 'quien mato a lincoln', 'label': None}]\n",
      "[{'value': 'david rocco s dolce africa', 'e_type': 'ent.audiovisual_tvshow_title', 'start_index': 5, 'end_index': 31, 'canon': 'david rocco dulce áfrica', 'label': None}, {'value': 'este sábado', 'e_type': 'ent.time_interval', 'start_index': 32, 'end_index': 43, 'canon': 'sabado', 'label': '6W'}]\n",
      "[{'value': 'independiente', 'e_type': 'ent.audiovisual_sports_team', 'start_index': 20, 'end_index': 33, 'canon': 'independiente', 'label': None}, {'value': 'temperley', 'e_type': 'ent.audiovisual_sports_team', 'start_index': 37, 'end_index': 46, 'canon': 'temperley', 'label': None}, {'value': 'mañana', 'e_type': 'ent.time_interval', 'start_index': 47, 'end_index': 53, 'canon': 'mañana', 'label': '+1d'}]\n",
      "[{'value': 'supercampeones', 'e_type': 'ent.audiovisual_tvseries_title', 'start_index': 7, 'end_index': 21, 'canon': 'capitan tsubasa', 'label': None}]\n",
      "[{'value': 'película', 'e_type': 'ent.audiovisual_genre', 'start_index': 15, 'end_index': 23, 'canon': 'pelicula', 'label': 'MOV'}, {'value': 'de miedo', 'e_type': 'ent.audiovisual_subgenre', 'start_index': 24, 'end_index': 32, 'canon': 'terror', 'label': 'terror'}]\n",
      "[{'value': 'alicia johnston', 'e_type': 'ent.audiovisual_actor', 'start_index': 7, 'end_index': 22, 'canon': 'alicia johnston', 'label': None}]\n",
      "[{'value': 'partidos', 'e_type': 'ent.audiovisual_sports_unit', 'start_index': 4, 'end_index': 12, 'canon': 'partido', 'label': None}, {'value': 'san lorenzo', 'e_type': 'ent.audiovisual_sports_team', 'start_index': 16, 'end_index': 27, 'canon': 'san lorenzo', 'label': None}]\n",
      "[{'value': 'peli', 'e_type': 'ent.audiovisual_genre', 'start_index': 8, 'end_index': 12, 'canon': 'pelicula', 'label': 'MOV'}, {'value': 'china suárez', 'e_type': 'ent.audiovisual_actor', 'start_index': 20, 'end_index': 32, 'canon': 'china suarez', 'label': None}]\n",
      "[{'value': 'temporada 2', 'e_type': 'ent.audiovisual_tv_season_number', 'start_index': 13, 'end_index': 24, 'canon': '2 temporada', 'label': None}, {'value': 'h2o', 'e_type': 'ent.audiovisual_tvseries_title', 'start_index': 28, 'end_index': 31, 'canon': 'h2o', 'label': None}]\n",
      "[{'value': 'este finde', 'e_type': 'ent.time_interval', 'start_index': 14, 'end_index': 24, 'canon': 'el fin de semana', 'label': '6W:7W'}]\n",
      "[{'value': 'serie', 'e_type': 'ent.audiovisual_genre', 'start_index': 13, 'end_index': 18, 'canon': 'serie', 'label': 'SER'}]\n",
      "[{'value': 'este viernes', 'e_type': 'ent.time_interval', 'start_index': 0, 'end_index': 12, 'canon': 'viernes', 'label': '5W'}, {'value': 'Bita e os Animais', 'e_type': 'ent.audiovisual_tvseries_title', 'start_index': 34, 'end_index': 51, 'canon': 'bita e os animais', 'label': None}]\n",
      "[{'value': 'ataque a pearl harbor', 'e_type': 'ent.audiovisual_film_title', 'start_index': 22, 'end_index': 43, 'canon': 'ataque a pearl harbor', 'label': None}]\n",
      "[{'value': 'La Profecía', 'e_type': 'ent.audiovisual_film_title', 'start_index': 12, 'end_index': 23, 'canon': 'la profecia', 'label': None}, {'value': 'esta noche', 'e_type': 'ent.time_interval', 'start_index': 33, 'end_index': 43, 'canon': 'de 9 pm a 12 pm', 'label': '9h_pm:12h_pm'}]\n",
      "[{'value': 'N C I S Nueva Orleans', 'e_type': 'ent.audiovisual_tvseries_title', 'start_index': 18, 'end_index': 39, 'canon': 'ncis new orleans', 'label': None}]\n",
      "[]\n",
      "[]\n",
      "[]\n"
     ]
    }
   ],
   "source": [
    "for info in info_entidad_exp:\n",
    "    #print(info)\n",
    "    try:\n",
    "        js = json.loads(info)\n",
    "        print(js)\n",
    "    except:\n",
    "        x = re.sub('\\'','\\\"', info)\n",
    "        y = re.sub('None', 'null', x)\n",
    "        js = json.loads(y)\n",
    "        print(js)"
   ]
  },
  {
   "cell_type": "code",
   "execution_count": 62,
   "metadata": {},
   "outputs": [],
   "source": [
    "class Compare_results(object):\n",
    "    \n",
    "    ## TO-DO\n",
    "        # Función (o clase nueva) que compare los dos output\n",
    "        # Qué es lo que me permite mantener los outputs de los parsers indexados?\n",
    "        \n",
    "    def __init__(self, path):\n",
    "        self.csv_path = path\n",
    "        self.output = {} \n",
    "        \n",
    "        \n",
    "    def load_df(self):\n",
    "        df = pd.read_csv(self.csv_path, sep=';')\n",
    "        return df\n",
    "    \n",
    "    \n",
    "    def get_data_to_compare(self, tipo):\n",
    "        data = self.load_df()\n",
    "        ents_obtained = data[\"entities_obtained\"]\n",
    "        ents_expected = data[\"entities_expected\"]\n",
    "        diffs = data[\"diferent\"]\n",
    "        \n",
    "        if tipo==\"obt\":\n",
    "            return ents_obtained\n",
    "        else:\n",
    "            \n",
    "            return ents_expected\n",
    "        \n",
    "        \n",
    "    def parse_data_obt(self, ent_obt):\n",
    "        output = []\n",
    "        \n",
    "        \n",
    "        # Agregar: Si lista vacía, apendear un null o flag\n",
    "        # Agregar: Indices para hacer la comparación\n",
    "        \n",
    "        \n",
    "        for info in ent_obt:\n",
    "            \n",
    "            repl = re.sub(r\"_Entity__name\", \"vaule\", info)\n",
    "            repl = re.sub(r\"_Entity__entity_type\", \"e_type\", repl)\n",
    "            repl = re.sub(r\"_Entity__start_index\", \"start_index\", repl)\n",
    "            repl = re.sub(r\"_Entity__end_index\", \"end_index\", repl)\n",
    "            repl = re.sub(r\"_Entity__canon\", \"canon\", repl)\n",
    "            repl = re.sub(r\"_Entity__label\", \"label\", repl)\n",
    "            repl = re.sub(r\"_Entity__order\", \"ent_id\", repl)\n",
    "            \n",
    "            x = re.sub('\\\"','', repl)\n",
    "            try:\n",
    "                js = json.loads(x)\n",
    "                output.extend(js)\n",
    "                \n",
    "            except:\n",
    "                z = re.sub('\\'','\\\"', x)\n",
    "                y = re.sub('None', 'null', z)\n",
    "                js = json.loads(y)\n",
    "                output.extend(js)\n",
    "              \n",
    "        return output\n",
    "    \n",
    "    def parse_data_exp(self, ent_exp):\n",
    "        output = []\n",
    "        \n",
    "        # Agregar: Si lista vacía, appendear un null o flag\n",
    "        # Agregar: Indices para hacer la comparación\n",
    "        \n",
    "        for info in info_entidad_exp:\n",
    "            #print(info)\n",
    "            try:\n",
    "                js = json.loads(info)\n",
    "                output.extend(js)\n",
    "            \n",
    "            except:\n",
    "                x = re.sub('\\'','\\\"', info)\n",
    "                y = re.sub('None', 'null', x)\n",
    "                js = json.loads(y)\n",
    "                output.extend(js)\n",
    "\n",
    "        return output"
   ]
  },
  {
   "cell_type": "code",
   "execution_count": 45,
   "metadata": {},
   "outputs": [],
   "source": [
    "chicho = Compare_results('/home/fernando/Escritorio/datos/details_es-ar_mplay.csv')"
   ]
  },
  {
   "cell_type": "code",
   "execution_count": 46,
   "metadata": {},
   "outputs": [],
   "source": [
    "obtained = chicho.get_data_to_compare(\"obt\")\n",
    "expected = chicho.get_data_to_compare(\"exp\")"
   ]
  },
  {
   "cell_type": "code",
   "execution_count": 47,
   "metadata": {},
   "outputs": [],
   "source": [
    "obt = chicho.parse_data_obt(obtained)\n",
    "exp = chicho.parse_data_exp(expected)"
   ]
  },
  {
   "cell_type": "code",
   "execution_count": 60,
   "metadata": {},
   "outputs": [
    {
     "data": {
      "text/plain": [
       "41"
      ]
     },
     "execution_count": 60,
     "metadata": {},
     "output_type": "execute_result"
    }
   ],
   "source": [
    "len(obt)"
   ]
  },
  {
   "cell_type": "code",
   "execution_count": 61,
   "metadata": {},
   "outputs": [
    {
     "data": {
      "text/plain": [
       "55"
      ]
     },
     "execution_count": 61,
     "metadata": {},
     "output_type": "execute_result"
    }
   ],
   "source": [
    "len(exp)"
   ]
  },
  {
   "cell_type": "code",
   "execution_count": 72,
   "metadata": {
    "collapsed": true,
    "jupyter": {
     "outputs_hidden": true
    }
   },
   "outputs": [
    {
     "data": {
      "text/plain": [
       "'¿Qué puedo ver mañana a las 8 de la noche por boomerang?'"
      ]
     },
     "execution_count": 72,
     "metadata": {},
     "output_type": "execute_result"
    }
   ],
   "source": [
    "data.loc[2]['phrase']"
   ]
  },
  {
   "cell_type": "code",
   "execution_count": 31,
   "metadata": {
    "collapsed": true,
    "jupyter": {
     "outputs_hidden": true
    }
   },
   "outputs": [
    {
     "name": "stdout",
     "output_type": "stream",
     "text": [
      "[{'_Entity__name': 'hoy', '_Entity__entity_type': 'ent.time_interval', '_Entity__score': 0.9995670316588974, '_Entity__start_index': 32, '_Entity__end_index': 35, '_Entity__canon': 'hoy', '_Entity__label': '+0d', '_Entity__deep_links': None, '_Entity__order': 2}, {'_Entity__name': 'de aventuras', '_Entity__entity_type': 'ent.audiovisual_subgenre', '_Entity__score': 0.9999997938873172, '_Entity__start_index': 19, '_Entity__end_index': 31, '_Entity__canon': 'aventura', '_Entity__label': 'aventura', '_Entity__deep_links': None, '_Entity__order': 1}]\n",
      "[{'_Entity__name': 'a las 8 de la noche', '_Entity__entity_type': 'ent.time_instant', '_Entity__score': 0.9999999999982951, '_Entity__start_index': 21, '_Entity__end_index': 40, '_Entity__canon': 'a las 8 de la noche', '_Entity__label': None, '_Entity__deep_links': None, '_Entity__order': 2}, {'_Entity__name': 'mañana', '_Entity__entity_type': 'ent.time_interval', '_Entity__score': 0.9999264939418726, '_Entity__start_index': 14, '_Entity__end_index': 20, '_Entity__canon': 'mañana', '_Entity__label': '+1d', '_Entity__deep_links': None, '_Entity__order': 1}, {'_Entity__name': 'boomerang', '_Entity__entity_type': 'ent.audiovisual_channel', '_Entity__score': 0.9999999999994227, '_Entity__start_index': 45, '_Entity__end_index': 54, '_Entity__canon': 'boomerang', '_Entity__label': None, '_Entity__deep_links': None, '_Entity__order': 3}]\n",
      "[{'_Entity__name': 'a las 3 de la tarde', '_Entity__entity_type': 'ent.time_instant', '_Entity__score': 0.999999999948791, '_Entity__start_index': 0, '_Entity__end_index': 19, '_Entity__canon': 'a las 3 de la tarde', '_Entity__label': None, '_Entity__deep_links': None, '_Entity__order': 1}, {'_Entity__name': 'tele', '_Entity__entity_type': 'ent.device_tv', '_Entity__score': 1.0, '_Entity__start_index': 34, '_Entity__end_index': 38, '_Entity__canon': 'tv', '_Entity__label': None, '_Entity__deep_links': None, '_Entity__order': 2}]\n",
      "[{'_Entity__name': 'tele', '_Entity__entity_type': 'ent.device_tv', '_Entity__score': 1.0, '_Entity__start_index': 19, '_Entity__end_index': 23, '_Entity__canon': 'tv', '_Entity__label': None, '_Entity__deep_links': None, '_Entity__order': 2}, {'_Entity__name': 'serie a', '_Entity__entity_type': 'ent.audiovisual_sports_season', '_Entity__score': 0.9999791850228912, '_Entity__start_index': 8, '_Entity__end_index': 15, '_Entity__canon': 'serie a', '_Entity__label': None, '_Entity__deep_links': None, '_Entity__order': 1}]\n",
      "[{'_Entity__name': 'la cuna', '_Entity__entity_type': 'ent.audiovisual_tvshow_title', '_Entity__score': 0.99969741011765, '_Entity__start_index': 30, '_Entity__end_index': 37, '_Entity__canon': 'la cuna', '_Entity__label': None, '_Entity__deep_links': None, '_Entity__order': 2}, {'_Entity__name': 'tumba', '_Entity__entity_type': 'ent.audiovisual_sports_season', '_Entity__score': 0.9920934886535258, '_Entity__start_index': 43, '_Entity__end_index': 48, '_Entity__canon': 'tumba', '_Entity__label': None, '_Entity__deep_links': None, '_Entity__order': 3}, {'_Entity__name': 'tele', '_Entity__entity_type': 'ent.device_tv', '_Entity__score': 1.0, '_Entity__start_index': 55, '_Entity__end_index': 59, '_Entity__canon': 'tv', '_Entity__label': None, '_Entity__deep_links': None, '_Entity__order': 4}, {'_Entity__name': 'documental', '_Entity__entity_type': 'ent.audiovisual_genre', '_Entity__score': 0.9999999957420254, '_Entity__start_index': 16, '_Entity__end_index': 26, '_Entity__canon': 'documental', '_Entity__label': 'DOC', '_Entity__deep_links': None, '_Entity__order': 1}]\n",
      "[{'_Entity__name': 'monos', '_Entity__entity_type': 'ent.audiovisual_film_title', '_Entity__score': 0.9938070257766329, '_Entity__start_index': 14, '_Entity__end_index': 19, '_Entity__canon': 'monos', '_Entity__label': None, '_Entity__deep_links': None, '_Entity__order': 2}, {'_Entity__name': '12', '_Entity__entity_type': 'ent.audiovisual_film_title', '_Entity__score': 0.9857813788054132, '_Entity__start_index': 11, '_Entity__end_index': 13, '_Entity__canon': '12', '_Entity__label': None, '_Entity__deep_links': None, '_Entity__order': 1}, {'_Entity__name': 'televisión', '_Entity__entity_type': 'ent.device_tv', '_Entity__score': 1.0, '_Entity__start_index': 26, '_Entity__end_index': 36, '_Entity__canon': 'tv', '_Entity__label': None, '_Entity__deep_links': None, '_Entity__order': 3}]\n",
      "[{'_Entity__name': 'ahora', '_Entity__entity_type': 'ent.time_instant', '_Entity__score': 0.9999999873528976, '_Entity__start_index': 32, '_Entity__end_index': 37, '_Entity__canon': 'ahora', '_Entity__label': '+0h', '_Entity__deep_links': None, '_Entity__order': 3}, {'_Entity__name': 'libertadores', '_Entity__entity_type': 'ent.audiovisual_sports_season', '_Entity__score': 0.9999999998471315, '_Entity__start_index': 7, '_Entity__end_index': 19, '_Entity__canon': 'libertadores', '_Entity__label': None, '_Entity__deep_links': None, '_Entity__order': 1}, {'_Entity__name': 'tele', '_Entity__entity_type': 'ent.device_tv', '_Entity__score': 1.0, '_Entity__start_index': 27, '_Entity__end_index': 31, '_Entity__canon': 'tv', '_Entity__label': None, '_Entity__deep_links': None, '_Entity__order': 2}]\n",
      "[{'_Entity__name': 'tercer capítulo', '_Entity__entity_type': 'ent.audiovisual_tv_episode_number', '_Entity__score': 0.9999999999999994, '_Entity__start_index': 12, '_Entity__end_index': 27, '_Entity__canon': '3 capitulo', '_Entity__label': None, '_Entity__deep_links': None, '_Entity__order': 1}, {'_Entity__name': 'temporada 1 de runaways', '_Entity__entity_type': 'ent.audiovisual_documental_title', '_Entity__score': 0.9999367377092271, '_Entity__start_index': 34, '_Entity__end_index': 57, '_Entity__canon': 'temporada 1 de runaways', '_Entity__label': None, '_Entity__deep_links': None, '_Entity__order': 2}, {'_Entity__name': 'tele', '_Entity__entity_type': 'ent.device_tv', '_Entity__score': 1.0, '_Entity__start_index': 65, '_Entity__end_index': 69, '_Entity__canon': 'tv', '_Entity__label': None, '_Entity__deep_links': None, '_Entity__order': 3}]\n",
      "[{'_Entity__name': 'Tiene la palabra', '_Entity__entity_type': 'ent.audiovisual_tvshow_title', '_Entity__score': 0.9861641515456803, '_Entity__start_index': 20, '_Entity__end_index': 36, '_Entity__canon': 'tiene la palabra', '_Entity__label': None, '_Entity__deep_links': None, '_Entity__order': 1}]\n",
      "[{'_Entity__name': 'hoy killing lincoln', '_Entity__entity_type': 'ent.audiovisual_tvshow_title', '_Entity__score': 0.9737386265085278, '_Entity__start_index': 26, '_Entity__end_index': 45, '_Entity__canon': 'hoy killing lincoln', '_Entity__label': None, '_Entity__deep_links': None, '_Entity__order': 1}]\n",
      "[{'_Entity__name': 'este sábado', '_Entity__entity_type': 'ent.time_interval', '_Entity__score': 0.9999999991406447, '_Entity__start_index': 33, '_Entity__end_index': 44, '_Entity__canon': 'sabado', '_Entity__label': '6W', '_Entity__deep_links': None, '_Entity__order': 2}, '{\"_Entity__name\": david rocco \"s dolce africa, \"_Entity__entity_type\": \"ent.audiovisual_tvshow_title\", \"_Entity__score\": 0.9999999991406461, \"_Entity__start_index\": 5, \"_Entity__end_index\": 32, \"_Entity__canon\": \"david rocco dulce africa\", \"_Entity__label\": null, \"_Entity__deep_links\": null, \"_Entity__order\": 1}']\n",
      "[{'_Entity__name': 'temperley mañana', '_Entity__entity_type': 'ent.audiovisual_sports_team', '_Entity__score': 0.697514727831055, '_Entity__start_index': 37, '_Entity__end_index': 53, '_Entity__canon': 'temperley mañana', '_Entity__label': None, '_Entity__deep_links': None, '_Entity__order': 2}, {'_Entity__name': 'independiente', '_Entity__entity_type': 'ent.audiovisual_sports_team', '_Entity__score': 0.9999999999931238, '_Entity__start_index': 20, '_Entity__end_index': 33, '_Entity__canon': 'independiente', '_Entity__label': None, '_Entity__deep_links': None, '_Entity__order': 1}]\n",
      "[{'_Entity__name': 'supercampeones', '_Entity__entity_type': 'ent.audiovisual_tvseries_title', '_Entity__score': 0.9999943555531645, '_Entity__start_index': 7, '_Entity__end_index': 21, '_Entity__canon': 'capitan tsubasa', '_Entity__label': None, '_Entity__deep_links': None, '_Entity__order': 1}]\n",
      "[{'_Entity__name': 'miedo', '_Entity__entity_type': 'ent.audiovisual_subgenre', '_Entity__score': 0.9115901757999229, '_Entity__start_index': 27, '_Entity__end_index': 32, '_Entity__canon': 'miedo', '_Entity__label': None, '_Entity__deep_links': None, '_Entity__order': 2}, {'_Entity__name': 'película', '_Entity__entity_type': 'ent.audiovisual_genre', '_Entity__score': 0.9999999999999968, '_Entity__start_index': 15, '_Entity__end_index': 23, '_Entity__canon': 'pelicula', '_Entity__label': 'MOV', '_Entity__deep_links': None, '_Entity__order': 1}]\n",
      "[{'_Entity__name': 'alicia johnston', '_Entity__entity_type': 'ent.audiovisual_director', '_Entity__score': 0.9998932497804623, '_Entity__start_index': 7, '_Entity__end_index': 22, '_Entity__canon': 'alicia johnston', '_Entity__label': None, '_Entity__deep_links': None, '_Entity__order': 1}]\n",
      "[{'_Entity__name': 'la china suárez', '_Entity__entity_type': 'ent.audiovisual_actor', '_Entity__score': 0.9999999999999996, '_Entity__start_index': 17, '_Entity__end_index': 32, '_Entity__canon': 'china suarez', '_Entity__label': None, '_Entity__deep_links': None, '_Entity__order': 2}, {'_Entity__name': 'peli', '_Entity__entity_type': 'ent.audiovisual_genre', '_Entity__score': 0.9999999999999997, '_Entity__start_index': 8, '_Entity__end_index': 12, '_Entity__canon': 'pelicula', '_Entity__label': 'MOV', '_Entity__deep_links': None, '_Entity__order': 1}]\n",
      "[{'_Entity__name': 'este finde', '_Entity__entity_type': 'ent.time_interval', '_Entity__score': 0.9999999301250374, '_Entity__start_index': 14, '_Entity__end_index': 24, '_Entity__canon': 'el fin de semana', '_Entity__label': '6W:7W', '_Entity__deep_links': None, '_Entity__order': 1}]\n",
      "[{'_Entity__name': 'este viernes', '_Entity__entity_type': 'ent.time_interval', '_Entity__score': 0.9999999997060994, '_Entity__start_index': 0, '_Entity__end_index': 12, '_Entity__canon': 'viernes', '_Entity__label': '5W', '_Entity__deep_links': None, '_Entity__order': 1}]\n",
      "[{'_Entity__name': 'a pearl harbor', '_Entity__entity_type': 'ent.audiovisual_film_title', '_Entity__score': 0.9995086403784887, '_Entity__start_index': 29, '_Entity__end_index': 43, '_Entity__canon': 'a pearl harbor', '_Entity__label': None, '_Entity__deep_links': None, '_Entity__order': 1}]\n",
      "[{'_Entity__name': 'La Profecía para ver esta noche', '_Entity__entity_type': 'ent.audiovisual_film_title', '_Entity__score': 0.9909171017067842, '_Entity__start_index': 12, '_Entity__end_index': 43, '_Entity__canon': 'la noche', '_Entity__label': None, '_Entity__deep_links': None, '_Entity__order': 1}]\n",
      "[{'_Entity__name': 'N C I S Nueva Orleans', '_Entity__entity_type': 'ent.audiovisual_tvseries_title', '_Entity__score': 1.0, '_Entity__start_index': 18, '_Entity__end_index': 39, '_Entity__canon': 'n c i s nueva orleans', '_Entity__label': None, '_Entity__deep_links': None, '_Entity__order': 1}]\n",
      "[{'_Entity__name': 'mi primo tiene un auto rojo', '_Entity__entity_type': 'ent.audiovisual_film_title', '_Entity__score': 0.8727563044811649, '_Entity__start_index': 12, '_Entity__end_index': 39, '_Entity__canon': 'mi primo tiene un auto rojo', '_Entity__label': None, '_Entity__deep_links': None, '_Entity__order': 1}]\n",
      "[{'_Entity__name': 'los del delivery y nunca vinieron', '_Entity__entity_type': 'ent.audiovisual_tvseries_title', '_Entity__score': 0.6966727608717619, '_Entity__start_index': 8, '_Entity__end_index': 41, '_Entity__canon': 'los del delivery y nunca vinieron', '_Entity__label': None, '_Entity__deep_links': None, '_Entity__order': 1}]\n"
     ]
    }
   ],
   "source": [
    "for e in info_entidad_obt:\n",
    "    o = re.sub('\\\"','', e)\n",
    "    #print(type(o))\n",
    "    try:\n",
    "        js = json.loads(o)\n",
    "        #print(js)\n",
    "    except:\n",
    "        u = re.sub('\\'','\\\"', o)\n",
    "        y = re.sub('None', 'null', u)\n",
    "        js = json.loads(y)\n",
    "        print(js) #Obtengo un dict!!!!!!!\n"
   ]
  },
  {
   "cell_type": "code",
   "execution_count": 25,
   "metadata": {
    "collapsed": true,
    "jupyter": {
     "outputs_hidden": true
    }
   },
   "outputs": [
    {
     "ename": "TypeError",
     "evalue": "'list' object is not an iterator",
     "output_type": "error",
     "traceback": [
      "\u001b[0;31m---------------------------------------------------------------------------\u001b[0m",
      "\u001b[0;31mTypeError\u001b[0m                                 Traceback (most recent call last)",
      "\u001b[0;32m<ipython-input-25-2a90033ad3af>\u001b[0m in \u001b[0;36m<module>\u001b[0;34m\u001b[0m\n\u001b[1;32m      1\u001b[0m \u001b[0;32mfor\u001b[0m \u001b[0minfo\u001b[0m \u001b[0;32min\u001b[0m \u001b[0minfo_entidad_obt\u001b[0m\u001b[0;34m:\u001b[0m\u001b[0;34m\u001b[0m\u001b[0m\n\u001b[0;32m----> 2\u001b[0;31m     \u001b[0mobtained\u001b[0m \u001b[0;34m=\u001b[0m \u001b[0mnext\u001b[0m\u001b[0;34m(\u001b[0m\u001b[0mparse_data\u001b[0m\u001b[0;34m(\u001b[0m\u001b[0minfo_entidad_obt\u001b[0m\u001b[0;34m)\u001b[0m\u001b[0;34m)\u001b[0m\u001b[0;34m\u001b[0m\u001b[0m\n\u001b[0m",
      "\u001b[0;31mTypeError\u001b[0m: 'list' object is not an iterator"
     ]
    }
   ],
   "source": []
  },
  {
   "cell_type": "code",
   "execution_count": 27,
   "metadata": {
    "collapsed": true,
    "jupyter": {
     "outputs_hidden": true
    }
   },
   "outputs": [
    {
     "data": {
      "text/plain": [
       "[\"{'_Entity__name': 'los del delivery y nunca vinieron', '_Entity__entity_type': 'ent.audiovisual_tvseries_title', '_Entity__score': 0.6966727608717619, '_Entity__start_index': 8, '_Entity__end_index': 41, '_Entity__canon': 'los del delivery y nunca vinieron', '_Entity__label': None, '_Entity__deep_links': None, '_Entity__order': 1}\"]"
      ]
     },
     "execution_count": 27,
     "metadata": {},
     "output_type": "execute_result"
    }
   ],
   "source": []
  },
  {
   "cell_type": "raw",
   "metadata": {},
   "source": []
  },
  {
   "cell_type": "code",
   "execution_count": 23,
   "metadata": {
    "collapsed": true,
    "jupyter": {
     "outputs_hidden": true
    }
   },
   "outputs": [
    {
     "ename": "NameError",
     "evalue": "name 'd' is not defined",
     "output_type": "error",
     "traceback": [
      "\u001b[0;31m---------------------------------------------------------------------------\u001b[0m",
      "\u001b[0;31mJSONDecodeError\u001b[0m                           Traceback (most recent call last)",
      "\u001b[0;32m<ipython-input-23-644ccfd3bb3a>\u001b[0m in \u001b[0;36m<module>\u001b[0;34m\u001b[0m\n\u001b[1;32m      3\u001b[0m     \u001b[0;32mtry\u001b[0m\u001b[0;34m:\u001b[0m\u001b[0;34m\u001b[0m\u001b[0m\n\u001b[0;32m----> 4\u001b[0;31m         \u001b[0ma\u001b[0m \u001b[0;34m=\u001b[0m \u001b[0mjson\u001b[0m\u001b[0;34m.\u001b[0m\u001b[0mloads\u001b[0m\u001b[0;34m(\u001b[0m\u001b[0minfo\u001b[0m\u001b[0;34m)\u001b[0m\u001b[0;34m\u001b[0m\u001b[0m\n\u001b[0m\u001b[1;32m      5\u001b[0m         \u001b[0;31m#print(a)\u001b[0m\u001b[0;34m\u001b[0m\u001b[0;34m\u001b[0m\u001b[0m\n",
      "\u001b[0;32m~/.pyenv/versions/3.6.5/lib/python3.6/json/__init__.py\u001b[0m in \u001b[0;36mloads\u001b[0;34m(s, encoding, cls, object_hook, parse_float, parse_int, parse_constant, object_pairs_hook, **kw)\u001b[0m\n\u001b[1;32m    353\u001b[0m             parse_constant is None and object_pairs_hook is None and not kw):\n\u001b[0;32m--> 354\u001b[0;31m         \u001b[0;32mreturn\u001b[0m \u001b[0m_default_decoder\u001b[0m\u001b[0;34m.\u001b[0m\u001b[0mdecode\u001b[0m\u001b[0;34m(\u001b[0m\u001b[0ms\u001b[0m\u001b[0;34m)\u001b[0m\u001b[0;34m\u001b[0m\u001b[0m\n\u001b[0m\u001b[1;32m    355\u001b[0m     \u001b[0;32mif\u001b[0m \u001b[0mcls\u001b[0m \u001b[0;32mis\u001b[0m \u001b[0;32mNone\u001b[0m\u001b[0;34m:\u001b[0m\u001b[0;34m\u001b[0m\u001b[0m\n",
      "\u001b[0;32m~/.pyenv/versions/3.6.5/lib/python3.6/json/decoder.py\u001b[0m in \u001b[0;36mdecode\u001b[0;34m(self, s, _w)\u001b[0m\n\u001b[1;32m    338\u001b[0m         \"\"\"\n\u001b[0;32m--> 339\u001b[0;31m         \u001b[0mobj\u001b[0m\u001b[0;34m,\u001b[0m \u001b[0mend\u001b[0m \u001b[0;34m=\u001b[0m \u001b[0mself\u001b[0m\u001b[0;34m.\u001b[0m\u001b[0mraw_decode\u001b[0m\u001b[0;34m(\u001b[0m\u001b[0ms\u001b[0m\u001b[0;34m,\u001b[0m \u001b[0midx\u001b[0m\u001b[0;34m=\u001b[0m\u001b[0m_w\u001b[0m\u001b[0;34m(\u001b[0m\u001b[0ms\u001b[0m\u001b[0;34m,\u001b[0m \u001b[0;36m0\u001b[0m\u001b[0;34m)\u001b[0m\u001b[0;34m.\u001b[0m\u001b[0mend\u001b[0m\u001b[0;34m(\u001b[0m\u001b[0;34m)\u001b[0m\u001b[0;34m)\u001b[0m\u001b[0;34m\u001b[0m\u001b[0m\n\u001b[0m\u001b[1;32m    340\u001b[0m         \u001b[0mend\u001b[0m \u001b[0;34m=\u001b[0m \u001b[0m_w\u001b[0m\u001b[0;34m(\u001b[0m\u001b[0ms\u001b[0m\u001b[0;34m,\u001b[0m \u001b[0mend\u001b[0m\u001b[0;34m)\u001b[0m\u001b[0;34m.\u001b[0m\u001b[0mend\u001b[0m\u001b[0;34m(\u001b[0m\u001b[0;34m)\u001b[0m\u001b[0;34m\u001b[0m\u001b[0m\n",
      "\u001b[0;32m~/.pyenv/versions/3.6.5/lib/python3.6/json/decoder.py\u001b[0m in \u001b[0;36mraw_decode\u001b[0;34m(self, s, idx)\u001b[0m\n\u001b[1;32m    356\u001b[0m         \u001b[0;32mexcept\u001b[0m \u001b[0mStopIteration\u001b[0m \u001b[0;32mas\u001b[0m \u001b[0merr\u001b[0m\u001b[0;34m:\u001b[0m\u001b[0;34m\u001b[0m\u001b[0m\n\u001b[0;32m--> 357\u001b[0;31m             \u001b[0;32mraise\u001b[0m \u001b[0mJSONDecodeError\u001b[0m\u001b[0;34m(\u001b[0m\u001b[0;34m\"Expecting value\"\u001b[0m\u001b[0;34m,\u001b[0m \u001b[0ms\u001b[0m\u001b[0;34m,\u001b[0m \u001b[0merr\u001b[0m\u001b[0;34m.\u001b[0m\u001b[0mvalue\u001b[0m\u001b[0;34m)\u001b[0m \u001b[0;32mfrom\u001b[0m \u001b[0;32mNone\u001b[0m\u001b[0;34m\u001b[0m\u001b[0m\n\u001b[0m\u001b[1;32m    358\u001b[0m         \u001b[0;32mreturn\u001b[0m \u001b[0mobj\u001b[0m\u001b[0;34m,\u001b[0m \u001b[0mend\u001b[0m\u001b[0;34m\u001b[0m\u001b[0m\n",
      "\u001b[0;31mJSONDecodeError\u001b[0m: Expecting value: line 1 column 277 (char 276)",
      "\nDuring handling of the above exception, another exception occurred:\n",
      "\u001b[0;31mNameError\u001b[0m                                 Traceback (most recent call last)",
      "\u001b[0;32m<ipython-input-23-644ccfd3bb3a>\u001b[0m in \u001b[0;36m<module>\u001b[0;34m\u001b[0m\n\u001b[1;32m      6\u001b[0m     \u001b[0;32mexcept\u001b[0m\u001b[0;34m:\u001b[0m\u001b[0;34m\u001b[0m\u001b[0m\n\u001b[1;32m      7\u001b[0m         \u001b[0;31m#errores.append(str(info))\u001b[0m\u001b[0;34m\u001b[0m\u001b[0;34m\u001b[0m\u001b[0m\n\u001b[0;32m----> 8\u001b[0;31m         \u001b[0mprint\u001b[0m\u001b[0;34m(\u001b[0m\u001b[0md\u001b[0m\u001b[0;34m)\u001b[0m\u001b[0;34m\u001b[0m\u001b[0m\n\u001b[0m\u001b[1;32m      9\u001b[0m         \u001b[0mprint\u001b[0m\u001b[0;34m(\u001b[0m\u001b[0merrores\u001b[0m\u001b[0;34m)\u001b[0m\u001b[0;34m\u001b[0m\u001b[0m\n\u001b[1;32m     10\u001b[0m         \u001b[0mindex_error\u001b[0m \u001b[0;34m=\u001b[0m \u001b[0mdata\u001b[0m\u001b[0;34m[\u001b[0m \u001b[0minfo_entidad_obt\u001b[0m \u001b[0;34m==\u001b[0m \u001b[0minfo\u001b[0m \u001b[0;34m]\u001b[0m\u001b[0;34m.\u001b[0m\u001b[0mindex\u001b[0m \u001b[0;31m#Quito la fila con el error\u001b[0m\u001b[0;34m\u001b[0m\u001b[0m\n",
      "\u001b[0;31mNameError\u001b[0m: name 'd' is not defined"
     ]
    }
   ],
   "source": []
  },
  {
   "cell_type": "code",
   "execution_count": null,
   "metadata": {
    "collapsed": true,
    "jupyter": {
     "outputs_hidden": true
    }
   },
   "outputs": [],
   "source": []
  },
  {
   "cell_type": "code",
   "execution_count": null,
   "metadata": {
    "collapsed": true,
    "jupyter": {
     "outputs_hidden": true
    }
   },
   "outputs": [],
   "source": [
    "#print(info_entidad_obt)\n"
   ]
  },
  {
   "cell_type": "code",
   "execution_count": null,
   "metadata": {
    "collapsed": true,
    "jupyter": {
     "outputs_hidden": true
    }
   },
   "outputs": [],
   "source": []
  },
  {
   "cell_type": "code",
   "execution_count": null,
   "metadata": {
    "collapsed": true,
    "jupyter": {
     "outputs_hidden": true
    }
   },
   "outputs": [],
   "source": [
    "errores = []\n",
    "for info in info_entidad_obt:\n",
    "    try:\n",
    "        a = json.loads(info)\n",
    "        #print(a)\n",
    "    except:\n",
    "        #errores.append(str(info))\n",
    "        print(d)\n",
    "        print(errores)\n",
    "        index_error = data[ info_entidad_obt == info ].index #Quito la fila con el error\n",
    "        info_entidad_obt.drop(index_error , inplace=True)\n",
    "        continue"
   ]
  },
  {
   "cell_type": "code",
   "execution_count": null,
   "metadata": {
    "collapsed": true,
    "jupyter": {
     "outputs_hidden": true
    }
   },
   "outputs": [],
   "source": [
    "def transform_keys(where):\n",
    "    output = []\n",
    "    for e in where:\n",
    "        cambio = re.sub(r'_Entity__name', \"vaule\", e)\n",
    "        cambio = re.sub(r'_Entity__entity_type', \"e_type\", cambio)\n",
    "        cambio = re.sub(r'_Entity__start_index', \"start_index\", cambio)\n",
    "        cambio = re.sub(r'_Entity__end_index', \"end_index\", cambio)\n",
    "        cambio = re.sub(r'_Entity__canon', \"canon\", cambio)\n",
    "        cambio = re.sub(r'_Entity__label', \"label\", cambio)\n",
    "        cambio = re.sub(r'_Entity__order', \"ent_id\", cambio)\n",
    "        \n",
    "        \n",
    "        output.append(cambio)\n",
    "        \n",
    "    return output"
   ]
  },
  {
   "cell_type": "code",
   "execution_count": null,
   "metadata": {
    "collapsed": true,
    "jupyter": {
     "outputs_hidden": true
    }
   },
   "outputs": [],
   "source": [
    "lala = transform_keys(info_entidad_obt)\n",
    "type(lala)"
   ]
  },
  {
   "cell_type": "code",
   "execution_count": null,
   "metadata": {
    "collapsed": true,
    "jupyter": {
     "outputs_hidden": true
    }
   },
   "outputs": [],
   "source": [
    "lala"
   ]
  },
  {
   "cell_type": "code",
   "execution_count": null,
   "metadata": {
    "collapsed": true,
    "jupyter": {
     "outputs_hidden": true
    }
   },
   "outputs": [],
   "source": [
    "import csvmapper\n",
    "\n",
    "# how does the object look\n",
    "mapper = csvmapper.DictMapper([ \n",
    "  [ \n",
    "     { 'phrase' : 'phrase'},\n",
    "     { 'name' : 'LastName' },\n",
    "     { 'name' : 'IDNumber', 'type':'int' },\n",
    "     { 'name' : 'Messages' }\n",
    "  ]\n",
    " ])\n",
    "\n",
    "# parser instance\n",
    "parser = csvmapper.CSVParser('/home/fernando/Escritorio/datos/details_es-ar_mplay.csv', mapper)\n",
    "# conversion service\n",
    "converter = csvmapper.JSONConverter(parser)\n",
    "\n",
    "print(converter.doConvert(pretty=True))"
   ]
  },
  {
   "cell_type": "code",
   "execution_count": null,
   "metadata": {
    "collapsed": true,
    "jupyter": {
     "outputs_hidden": true
    }
   },
   "outputs": [],
   "source": [
    "phrase\tdifferent\tintent_obtained\tintent_expected\tentities_obtained\tentities_expected\tdomain_obtained\tdomain_expected\n"
   ]
  },
  {
   "cell_type": "code",
   "execution_count": null,
   "metadata": {
    "collapsed": true,
    "jupyter": {
     "outputs_hidden": true
    }
   },
   "outputs": [],
   "source": []
  },
  {
   "cell_type": "code",
   "execution_count": null,
   "metadata": {
    "collapsed": true,
    "jupyter": {
     "outputs_hidden": true
    }
   },
   "outputs": [],
   "source": []
  },
  {
   "cell_type": "code",
   "execution_count": null,
   "metadata": {
    "collapsed": true,
    "jupyter": {
     "outputs_hidden": true
    }
   },
   "outputs": [],
   "source": []
  },
  {
   "cell_type": "code",
   "execution_count": null,
   "metadata": {
    "collapsed": true,
    "jupyter": {
     "outputs_hidden": true
    }
   },
   "outputs": [],
   "source": []
  },
  {
   "cell_type": "code",
   "execution_count": null,
   "metadata": {
    "collapsed": true,
    "jupyter": {
     "outputs_hidden": true
    }
   },
   "outputs": [],
   "source": []
  },
  {
   "cell_type": "code",
   "execution_count": null,
   "metadata": {
    "collapsed": true,
    "jupyter": {
     "outputs_hidden": true
    }
   },
   "outputs": [],
   "source": []
  },
  {
   "cell_type": "code",
   "execution_count": null,
   "metadata": {
    "collapsed": true,
    "jupyter": {
     "outputs_hidden": true
    }
   },
   "outputs": [],
   "source": []
  }
 ],
 "metadata": {
  "kernelspec": {
   "display_name": "Python 3",
   "language": "python",
   "name": "python3"
  },
  "language_info": {
   "codemirror_mode": {
    "name": "ipython",
    "version": 3
   },
   "file_extension": ".py",
   "mimetype": "text/x-python",
   "name": "python",
   "nbconvert_exporter": "python",
   "pygments_lexer": "ipython3",
   "version": "3.6.5"
  }
 },
 "nbformat": 4,
 "nbformat_minor": 4
}
