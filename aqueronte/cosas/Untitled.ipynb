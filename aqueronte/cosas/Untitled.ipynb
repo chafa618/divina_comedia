{
 "cells": [
  {
   "cell_type": "code",
   "execution_count": 22,
   "metadata": {},
   "outputs": [],
   "source": [
    "import re\n",
    "from num2words import num2words\n",
    "from c1 import preprocessing_functions as pre"
   ]
  },
  {
   "cell_type": "code",
   "execution_count": 23,
   "metadata": {
    "collapsed": true,
    "jupyter": {
     "outputs_hidden": true
    }
   },
   "outputs": [
    {
     "data": {
      "text/plain": [
       "'VISADO ÑYC\\n¿ =\\nADENDA POR RENOVACIÓN\\nN K3440 — EZPELETA 6 - ARBA10089 ]\\nEntre TELEFONICA MÓVILES ARGENTINA S.A., con domicilio en Av. Independencia N*\\n169, Planta Baja, Ciudad Autónoma de Buenos Aires, representada en este acto por sus\\napoderados con facultades suficientes que suscriben al pie (en adelante, la “Locataria”), por una\\nparte y; por otra parte, CARLOS ANTONIO AVALOS CARDOZO, DNI N* 92.152.193, CUIT N* 20-\\n92192193-7, con domicilio en la calle Costa Rica N” 2390, Localidad de Ezpeleta, Partido de\\nQuilmes, Provincia de Buenos Aires (en lo sucesivo, la “Locadora” y; en conjunto, las \"Partes\",\\n: Y CONSIDERANDO: ;\\nA. Que con fecha 24 (veinticuatro) de septiembre del 2014, las Partes celebraron un contrato :\\nde locación (en lo sucesivo, el “Contrato” por un sector ubicado en el inmueble sito en la\\ncalle Costa Rica N* 2390, Localidad de Ezpeleta, Partido de Quilmes, Provincia de Buenos\\nAires (en adelante el “Inmueble”;\\nB. Que el plazo de vigencia del Contrato finalizó el 31 (treinta y uno) de diciembre del 2019 y;\\nC. Que las Partes han mantenido conversaciones previas de las que resulta la intención de\\nrenovar el Contrato. -\\nPOR ELLO, las Partes convienen celebrar la presente adenda (en adelante, la “Adenda”,\\nsujeta a las siguientes cláusulas y condiciones:\\nt. Objeto —- Renovación\\nLas Partes convienen en renovar el Contrato por 36 (treinta y seis) meses, corridos y\\ncontados a partir del 1* (primero) de enero del 2020, motivo por el cual el plazo de vigencia del\\nContrato se extenderá al 31 (treinta y uno) de diciembre del 2022 (en adelante, el “Plazo”.\\n2. Precio y Forma de Pago\\n2.1 El precio total de la Adenda se pacta en la suma de $884.520 (pesos argentinos\\nochocientos ochenta y cuatro mil quinientos veinte), con más el Impuesto al Valor Agregado (IVA),\\nen caso de corresponder (en adelante, el “Precio”.\\n2.2 Las Partes acuerdan que los pagos del Precio quedan dispuestos de la siguiente forma: (1)\\nuna primer cuota anual por la suma de $243.000 (pesos argentinos doscientos cuarenta y tres mil)\\n(en adelante, el “Primer Pago”); (ii) una segunda cuota anual por la suma de $292.680 (pesos\\nargentinos doscientos noventa y dos mil seiscientos) y; (lll) una tercer cuota anual por la suma de\\n$349.920 (pesos argentinos trescientos cuarenta y nueve mil novecientos veinte), todas con más el\\nimpuesto al Valor agregado (IVA), en caso de corresponder.\\n2.3 En cuanto a la forma de pago del Precio, las Partes estipulan que la Locataria abonará a la\\nLocadora períodos de 12 (doce) meses por adelantado. El primer pago del Precio tendrá lugar\\ndentro de los 60 (sesenta) días desde la firma de la presente Adenda, y el de las cuotas anuales\\nVISADO NYG\\nposteriores, cada 385 (trescientos sesenta y cinco) días de iniciado el Plazo; y así sucesivamente,\\nhasta la extinción del Plazo o la rescisión del Contrato.\\n\\n2.4 El pago del Precio se hará en pesos mediante depósito bancario en la cuenta que en este\\nacto designa la Locadora: Banco de la Provincia de Buenos Aires, Sucursal 5087 Quilmes Centro,\\nCuenta Corriente en Pesos N* 5087-50776/1, a nombre de Carlos Antonio Avalos Cardozo, CBU\\nN* 0140027401508705077613 y CUIT N* 20-92152193-7. Las Partes pactan que -a todos los\\nefectos legales- el comprobante del depósito extendido por el Banco depositario, servirá de\\nsuficiente recibo y carta de pago del Precio.\\n\\n2.5 La Locadora se obliga a entregar a la Locataria la/s factura/s correspondiente/s con una\\nantelación mínima de 10 (diez) días hábiles bancarios a la fecha de vencimiento del plazo para el\\npago. En caso de no presentar en tiempo y forma la factura, la Locadora quedará constituida en\\nmora automáticamente, quedando en consecuencia la Locataria facultada a retener los pagos\\nhasta tanto la Locadora no de efectivo cumplimiento a su obligación; y reservándose la Locataria el\\nderecho de consignar judicialmente las sumas del Precio pactadas sin necesidad de interpelación\\nprevia.\\n\\nEn cualquier caso, el plazo estipulado para el pago, será prorrogado por la misma cantidad\\nde días en que la Locadora hubiera demorado la entrega de la/s factura/s. La facturación deberá\\ncumplir con los requisitos y procedimientos establecidos en el Anexo l.\\n\\n3, Energía\\n\\nLas Partes pactan que la Locataria reintegrará a la Locadora en concepto de energía la\\nsuma anual de $178.464 (pesos argentinos ciento setenta y ocho mil cuatrocientos sesenta y\\ncuatro).\\n4, Obligaciones de la Locadora\\n\\nAdicionalmente a lo establecido en el Contrato, por la presente la Locadora se obliga a:\\n\\n4.1 Permitir el paso, a través de cualquier ámbito del inmueble y/o del Sector, al personal de la\\nLocataria y/o a sus contratistas y/o a cualquier tercero autorizado por la Locataria, en forma\\nininterrumpida, las 24 (veinticuatro) horas del día, los 7 (siete) días de la semana durante la\\nvigencia del Contrato y; a no interrumpir bajo ninguna circunstancia la provisión de la energía\\nnecesaria para el funcionamiento de los equipos.\\n\\n4.2 En caso de que la Locadora interrumpiera la provisión de energía y/o no se permitiera el :\\nacceso al Inmueble o al Sector, de conformidad con lo establecido en esta cláusula, la Locadora\\ndeberá abonar, en concepto de cláusula penal, una multa diaria de equivalente al doble del valor\\nlocativo diario desde el día en que se interrumpiera la provisión de energía y/o se prohibiera el\\ningreso según el caso-, hasta el día en que se restablezca la energía y/o la Locataria pueda\\ningresar al Sector. Estos fondos serán depositados en la cuenta que la Locataria indique.\\n\\n4.3 La Locadora acepta y reconoce que los equipos a ser instalados en el Inmueble serán\\ndestinados por Locataria a la prestación de servicio de interés público de telecomunicaciones; y\\nque la interrupción del funcionamiento de los mismos por parte de cualquier persona no autorizada\\nYISADO NYG\\npreviamente por la Locataria será pasible de la correspondiente denuncia penal en los términos de\\nlos artículos 194, 197 y concordantes del Código Penal, y del reclamo de los daños y perjuicios que\\ncorrespondan.\\n4.4 La Locadora se obliga a notificar fehacientemente a la Locataria cualquier modificación de\\nlos datos estipulados en el Contrato y la presente Adenda (datos bancarios, condición fiscal,\\ncambio de titularidad, y cualquier otro dato concerniente a la facturación o pago). El incumplimiento\\na lo aquí establecido obstará al pago de los cánones locativos por parte de la Locataria, no\\nconsiderándose por tanto en mora a su obligación de pago hasta tanto la Locadora dé efectivo\\ncumplimiento a dicha obligación.\\n4.5 En el eventual caso que resultare necesario la realización de obras y/o reparaciones sobre\\nel Inmueble como consecuencia de la actividad de la Locataria, las Partes suscribirán las actas :\\ncorrespondientes de presupuesto y/o final de obra, según corresponda. -\\n46 La Locadora declara conocer, y se obliga a cumplir, la Normativa sobre Lucha contra la\\nCorrupción, para lo cual suscribe simultáneamente con este Contrato, el Anexo A (“Certificado\\nAnticorrupción de Proveedor de Telefónica”) y el Anexo B (\"Cumplimiento de las Leyes Anti-\\nCorrupción”).\\n5. Impuesto de Sellos\\nPara el caso de corresponder tributar el Impuesto de Sellos, el mismo será soportado por la\\nLocataria. A tal fin la base imponible se fija en la suma de ochocientos ochenta y cuatro mil\\nquinientos veinte en concepto de canon locativo total y $884. 520 (pesos argentinos ochocientos\\nochenta y cuatro mil quinientos veinte) por reintegro total de gastos de energía.\\n6. Vigencia del Contrato\\nEn todo lo no modificado por la presente Adenda, las Partes ratifican la plena vigencia de\\ntodas las cláusulas y condiciones establecidas en el Contrato.\\nEn prueba de conformidad, se firman 2 (dos) ejemplares de un mismo tenor y a un único\\nefecto, en la Ciudad de ,alos___ días del mes de del 2019.\\nFirma Locadora Firma Locataria\\nVISADO NYG\\nANEXO 1\\n\\n5 Las facturas deberán ser emitidas a nombre de Telefónica Móviles Argentina S.A.;\\nCULT. N* 30-67881435-7; Ingresos Brutos Convenio Multilateral N? 901-178425-4;\\ndomicilio legal: Av. Independencia N* 169, Planta Baja, CABA, CP C1099AAB.\\n\\no Cada locador deberá estar registrado y dado de alta en una aplicación web llamada !\\n\\n“Mercurio”. El link de aplicación es: htips://canales.movistar.com.ar/web/login-general.\\n\\n9 TMA proveerá mediante esta aplicación la información necesaria para que cada locador\\npueda facturar los montos que correspondan.\\n\\nO Los datos para facturar constan de unos códigos de números (número de pedido y\\nnumero de hoja de entrada). Una vez generados los datos y estar disponibles en Mercurio\\npara emisión de factura, cada locador recibirá una notificación en su correo electrónico y\\nen su celular (si es que tiene línea de Movistar).\\n\\na Si el locador cuenta con factura electrónica, deberá consignar en el cuerpo de la factura\\ntodos los datos enviados a la dirección de mail y subir la factura a la página mediante la\\nemisión de un ticket.\\n\\nO Si el locador cuenta con factura manual deberá generar el ticket en la página web, y\\nconsignar manualmente en el cuerpo de la factura los datos enviados (número de pedido y\\nnumero de hoja de entrada) y el número de ticket web que genere. Una vez emitida la\\nfactura con estos datos, deberá presentarla personalmente o por correo en en el sector de\\nCuentas a Pagar, sito en Iguazú N* 341, Parque Patricios CP 1437 - Capital Federal, los\\ndías Lunes a Viernes en el horario de 9.30 a 13 hs. y 14.30 a 16.30 hs.\\n\\nO Los proveedores del interior del país podrán enviar las facturas por correo a dicha\\ndirección, con acuse de recibo.\\n\\n0 Las facturas que no cumplan con todos los requisitos mencionados, no serán aceptadas\\n\\npor la Ventanilla Única, adjuntándose nota aclaratoria. El plazo para el pago se computará\\na partir de la nueva presentación que se realice.\\n\\nJ El plazo para el pago del Precio será de 10 (diez) días hábiles luego de presentada y |\\n\\naceptada la factura en el área de Cuentas a Pagar.\\nInformación sobre los pagos\\nPara obtener información, deberá ingresar a la aplicación donde podrá visualizar no sólo si se\\nencuentran disponibles sus datos para facturar, sino que también podrá realizar el seguimiento del\\npago hasta que se emita la transferencia o el cheque.\\nDe mediar algún inconveniente con el sistema, escribir por WhatsApp a la Línea exclusiva de\\nAtención a Locadores: +5491169331952 o en el sitio web.\\nVISADO KNYC\\ntelefonica\\nANEXO A\\nCERTIFICADO ANTICORRUPCIÓN DE PROVEEDOR DE TELEFÓNICA\\nEste certificado debe ser integramente cumplimentado y firmado por cualquier persona que desee\\nestablecer una relación comercial, u otro tipo de relación de negocio o colaboración, para la\\nprestación de servicios o suministro de bienes o derechos a alguna(s) de las sociedades del Grupo\\nTelefónica, bajo el Modelo de Compras de este último (en adelante, el “Declarante”.\\nLa no cumplimentación de este Certificado o alguno de los espacios requeridos podrá suponer que\\nel Declarante sea descalificado de alguno(s) y/o todos los procesos de contratación de Telefónica,\\ny podrá igualmente suponer que el Declarante sea excluido de la posibilidad de ser considerado\\ncomo un proveedor potencial de Telefónica para la prestación de servicios, derechos y/o bienes.\\nPor favor, lea atentamente todos los campos e información requeridos a continuación y responda a\\ntodas las preguntas y espacios, tal y como se indica.\\nVISADO NYG\\nPARTE 1 .\\nINFORMACIÓN DEL DECLARANTE |\\na) Nombre y apellidos: CARLOS ANTONIO AVALOS CARDOZO\\nb) Dirección postal profesional: calle Costa Rica N* 2390, Localidad de Ezpeleta,\\nPartido de Quilmes, Provincia de Buenos Aires\\nCódigo Postal:\\nc) Teléfono: 1130028500 d) Faxn/d\\ne) Correo electrónico: carlosavalos86Ghotmail. com\\nf CUIT: 20-92152193-7\\nVISADO NYG\\nPARTE 2: DECLARACIÓN\\nDeclaro que, conforme a mi mejor saber y entender, la información facilitada anteriormente, así\\ncomo las declaraciones efectuadas a continuación, son correctas e integras.\\nEfectúo esta declaración como prueba de mi compromiso de cumplir con toda la legislación\\nanticorrupción que resulte de aplicación. Certifico que conozco y acepto cumplir con todas las\\nleyes, estatutos, regulaciones y códigos aplicables en aquellas jurisdicciones donde el negocio se\\nlleve a cabo, con respecto a la prestación de servicios, derechos y/o bienes a Telefónica, a fin de\\ncombatir la corrupción, incluido pero no limitado a la Ley de Prácticas Corruptas en el Extranjero de\\nlos Estados Unidos (todas aquellas leyes en su caso aplicables referidas conjuntamente de ahora\\nen adelante como la “Normativa Anticorrupción”), tal y como se dispone en la cláusula\\nanticorrupción prevista en las Condiciones Generales para la Prestación de Servicios y el\\nSuministro de Bienes a Telefónica, S.A. y Sociedades de su Grupo! (en adelante, la “Cláusula\\nAnticorrupción”).\\nAcepto y me comprometo a colaborar de buena fe en cualquier investigación llevada a cabo por\\nTelefónica y sus auditores, abogados y representantes, en caso de que se produzca alguna\\npresunta violación de la Normativa Anticorrupción y/o de la Cláusula Anticorrupción.\\nEntiendo que, en el caso de que sea probado que la información declarada anteriormente sea\\nmaterialmente incorrecta, y/o que se haya vulnerado significativamente alguna de las\\nmanifestaciones efectuadas en esta declaración, Telefónica tendrá el derecho de resolver de forma\\ninmediata alguno(s) o todos los contratos suscritos con el Declarante.\\nAcepto notificar inmediatamente a Telefónica en caso de que las declaraciones e información\\nfacilitadas en el presente documento varíen o, de algún modo, devengan inválidas.\\nEntiendo que Telefónica puede requerirme a certificar de nuevo las declaraciones expuestas\\nanteriormente en este Certificado (y/o adicionales/distintas declaraciones) en el futuro.\\nFIRMADO POR\\nNombre:\\n: Fecha:\\n1 A ser añadido en aquellos casos en los que no se aplique el Modelo de Compras: “...y/o en la Cláusula\\nAnticorrupción a ser incluida eventualmente en cualquier acuerdo o contrato que pueda regular la relación\\nentre Telefónica y el Declarante”.\\nVISADO NYG\\nANEXO B\\nCUMPLIMIENTO DE LAS LEYES ANTI-CORRUPCIÓN\\n1.1 La Locadora se compromete, reconoce y garantiza que:\\na) Tanto la Locadora, como en su caso, cualquiera de las sociedades o personas que la\\ncontrolan, así como las filiales de la Locadora, sus socios, directivos, administradores, empleados y\\nagentes relacionados de alguna manera con el Compromiso Relevante , cumplirán en todo\\nmomento durante el Compromiso Relevante (incluyendo, en su caso, la adquisición de los\\nproductos y/o contenidos que estuvieren relacionados con el suministro de bienes y/o prestación\\nde servicios objeto de este Acuerdo) con todas las leyes, estatutos, reglamentos y códigos\\naplicables en materia de lucha contra la corrupción, incluyendo, en cualquier caso y sin limitación,\\nla Ley de los Estados Unidos sobre Prácticas Corruptas en el Extranjero (colectivamente,\\n“Normativa sobre Lucha contra la Corrupción”);\\nb) Con relación al Compromiso Relevante, ni la Locadora ni en su caso, ninguna de las\\nsociedades o personas que la controlan, ni las filiales de la Locadora, sus socios, directivos,\\nadministradores, empleados y agentes, ofrecerán, prometerán o entregarán, ni a la fecha de\\nentrada en vigor del presente Acuerdo han ofrecido, prometido o entregado, directa o\\nindirectamente, dinero u objetos de valor a (i) ningún “Funcionario Público” a fin de influir en\\nactuaciones de la autoridad o institución pública o, de alguna forma, de obtener una ventaja\\nindebida: (ii) cualquier otra persona, si se tiene conocimiento de que todo o parte del dinero u\\nobjeto de valor será ofrecido o entregado a un Funcionario Público para influir en actuaciones de la\\nautoridad o institución pública o, de alguna forma, obtener una ventaja indebida, o (ii) a cualquier\\notra persona, a fin de inducirle a actuar de manera desleal o, de cualquier modo, inapropiada;\\nCc) La Locadora, de resultarle aplicable, conservará y mantendrá libros y registros financieros\\nprecisos y razonablemente detallados con relación a este Acuerdo y el Compromiso Relevante;\\no) La Locadora, de resultarle aplicable, dispone de, y mantendrá en vigor durante la vigencia\\nde este Acuerdo, políticas o procedimientos propios para garantizar el cumplimiento de la\\nNormativa sobre Lucha contra la Corrupción, y suficientes para asegurar razonablemente que\\ncualquier violación de dicha Normativa sobre Lucha contra la. Corrupción se prevendrá, detectará y\\ndisuadirá;\\ne) La Locadora comunicará de inmediato a la Locataria el eventual incumplimiento de\\ncualquiera de sus obligaciones descritas en los párrafos (a), (b) y (c) de esta Cláusula 1.1. En dicho\\nVISADO NYS\\ncaso de incumplimiento, la Locataria se reserva el derecho a exigir a la Locadora la inmediata\\nadopción de medidas correctivas apropiadas.\\n\\nh A efectos aclaratorios, las manifestaciones, garantías y compromisos de la Locadora\\nrecogidos en esta cláusula 1.1 serán aplicables de manera integra a cualesquiera terceros sujetos\\nal control o influencia de la Locadora, o que actúen en nombre de la Locadora, con relación al\\nCompromiso Relevante; de forma que la Locadora manifiesta que ha adoptado las medidas\\nrazonables para asegurar el cumplimiento de lo anterior por parte de dichos terceros. Asimismo,\\nningún derecho u obligación, así como ningún servicio a ser prestado por la Locadora, con relación\\nal Compromiso Relevante, será cedido, transferido o subcontratado a cualquier tercero sin el previo\\nconsentimiento por escrito de la Locataria;\\n9) La Locadora certificará que cumple con esta Cláusula 1.1 periódicamente, según sea\\nrequerido por la Locataria.\\n1.2 Incumplimiento.\\na) El incumplimiento de esta cláusula 1 se considerará un incumplimiento grave de este\\nAcuerdo. En el caso de producirse dicho incumplimiento, salvo que el mismo fuera corregido según\\nlo dispuesto en el apartado 1.1.(e) de la presente Cláusula, este Acuerdo podrá ser\\ninmediatamente suspendido o resuelto por la Locataria, y cualquier reclamación de pago de la\\nLocadora podrá ser desestimada por la Locataria.\\nb) En la medida en que la Ley lo permita, la Locadora indemnizará y mantendrá indemne a la\\nLocataria de todas y cada una de las reclamaciones, daños y perjuicios, pérdidas, penalizaciones y\\ncostes (incluyendo, sin limitación, los honorarios de abogados) y de cualquier gasto derivado de o\\nrelacionado con un incumplimiento por parte de la Locadora de sus obligaciones contenidas en el\\napartado 1.1 de la presente Cláusula.\\n1.3 La Locataria tendrá el derecho de auditar el cumplimiento por parte de la Locadora de sus\\n- obligaciones y manifestaciones recogidos en el apartado 1.1 de la presente Cláusula. La Locadora\\ncooperará totalmente en cualquier auditoría, revisión o investigación realizada por, o en nombre de,\\nla Locataria.\\nÑ\\nX l |\\nN, X\\nA 4\\n'"
      ]
     },
     "execution_count": 23,
     "metadata": {},
     "output_type": "execute_result"
    }
   ],
   "source": [
    "with open(\"/home/fernando/Escritorio/data/scrips/V1062.txt\") as file:\n",
    "    ocr = file.read()\n",
    "ocr"
   ]
  },
  {
   "cell_type": "code",
   "execution_count": 7,
   "metadata": {},
   "outputs": [],
   "source": [
    "number_rg = r'(\\d{2,4}\\.\\d{2,4})\\s?\\((pesos\\sargentinos)\\s(.+?)\\)'"
   ]
  },
  {
   "cell_type": "code",
   "execution_count": 21,
   "metadata": {},
   "outputs": [
    {
     "name": "stdout",
     "output_type": "stream",
     "text": [
      "884.520\n"
     ]
    }
   ],
   "source": [
    "number_search = re.match(number_rg, ocr)\n",
    "\n",
    "if number_search:\n",
    "    ext = number_search.group(3)\n",
    "    currency = number_search.group(2)\n",
    "    number = number_search.group(1)\n",
    "\n",
    "print(number)"
   ]
  },
  {
   "cell_type": "code",
   "execution_count": 39,
   "metadata": {},
   "outputs": [
    {
     "name": "stdout",
     "output_type": "stream",
     "text": [
      "El valor 884.520 coincide con su extension ochocientos ochenta y cuatro mil quinientos veinte\n",
      "El valor 243.000 coincide con su extension doscientos cuarenta y tres mil\n",
      "292.680 es distinto a su extension: doscientos noventa y dos mil seiscientos\n",
      "El valor 349.920 coincide con su extension trescientos cuarenta y nueve mil novecientos veinte\n"
     ]
    }
   ],
   "source": [
    "#Esta es la posta\n",
    "for match in re.finditer(number_rg, ocr):\n",
    "    cifra = match.group(1) #A cifra hay que sacarle el punto que n2w lo interpreta como float\n",
    "    num_extenso = match.group(3)\n",
    "    currency_val = match.group(2)\n",
    "    n2w = num2words(remove_point_in_numb(cifra), lang='es')\n",
    "    if n2w != num_extenso:\n",
    "        print(\"{} es distinto a su extension: {}\".format(cifra, num_extenso))\n",
    "    else: print(\"El valor {} coincide con su extensión: {}\".format(cifra, num_extenso))"
   ]
  },
  {
   "cell_type": "code",
   "execution_count": 20,
   "metadata": {},
   "outputs": [],
   "source": [
    "def load_file(path):\n",
    "    with open(path) as file:\n",
    "        plaintxt = file.read()\n",
    "    return plaintxt\n",
    "\n",
    "def remove_new_line(string):\n",
    "    return re.sub(r'\\n', ' ', string)\n",
    "\n",
    "def remove_point_in_numb(string):\n",
    "    return string.replace('.', '')\n",
    "\n",
    "def clean_txt(string):\n",
    "    string_out = pre.make_lowercase(string)\n",
    "    string_out = pre.remove_diacritics(string_out)\n",
    "    string_out = remove_new_line(string_out)\n",
    "    return string_out\n",
    "\n",
    "def get_original_amounts(string, rg):\n",
    "    rgx = re.compile(rg)\n",
    "    \n",
    "    tpl_amounts = re.findall(rgx, string)\n",
    "    \n",
    "    #amount_in_txt = re.search(number_rg, string)\n",
    "    return tpl_amounts\n",
    "\n",
    "def check_num_n_extension(string):\n",
    "    clean_ocr = clean_txt(ocr)\n",
    "    test = get_original_amounts(clean_ocr)\n",
    "\n"
   ]
  },
  {
   "cell_type": "code",
   "execution_count": 10,
   "metadata": {},
   "outputs": [
    {
     "name": "stdout",
     "output_type": "stream",
     "text": [
      "[('884.520', 'pesos argentinos', 'ochocientos ochenta y cuatro mil quinientos veinte'), ('243.000', 'pesos argentinos', 'doscientos cuarenta y tres mil'), ('292.680', 'pesos argentinos', 'doscientos noventa y dos mil seiscientos'), ('349.920', 'pesos argentinos', 'trescientos cuarenta y nueve mil novecientos veinte'), ('178.464', 'pesos argentinos', 'ciento setenta y ocho mil cuatrocientos sesenta y cuatro')]\n"
     ]
    },
    {
     "ename": "ValueError",
     "evalue": "too many values to unpack (expected 2)",
     "output_type": "error",
     "traceback": [
      "\u001b[0;31m---------------------------------------------------------------------------\u001b[0m",
      "\u001b[0;31mValueError\u001b[0m                                Traceback (most recent call last)",
      "\u001b[0;32m<ipython-input-10-1d80ab72f901>\u001b[0m in \u001b[0;36m<module>\u001b[0;34m\u001b[0m\n\u001b[1;32m      5\u001b[0m \u001b[0mcurrency_rg\u001b[0m \u001b[0;34m=\u001b[0m \u001b[0mre\u001b[0m\u001b[0;34m.\u001b[0m\u001b[0mcompile\u001b[0m\u001b[0;34m(\u001b[0m\u001b[0;34mr'pesos\\sargentinos\\s'\u001b[0m\u001b[0;34m)\u001b[0m\u001b[0;34m\u001b[0m\u001b[0m\n\u001b[1;32m      6\u001b[0m \u001b[0;34m\u001b[0m\u001b[0m\n\u001b[0;32m----> 7\u001b[0;31m \u001b[0;32mfor\u001b[0m \u001b[0mcifra\u001b[0m\u001b[0;34m,\u001b[0m \u001b[0mextension\u001b[0m \u001b[0;32min\u001b[0m \u001b[0mtest\u001b[0m\u001b[0;34m:\u001b[0m\u001b[0;34m\u001b[0m\u001b[0m\n\u001b[0m\u001b[1;32m      8\u001b[0m \u001b[0;34m\u001b[0m\u001b[0m\n\u001b[1;32m      9\u001b[0m     \u001b[0mcifra_\u001b[0m \u001b[0;34m=\u001b[0m \u001b[0mre\u001b[0m\u001b[0;34m.\u001b[0m\u001b[0msub\u001b[0m\u001b[0;34m(\u001b[0m\u001b[0;34m'\\.'\u001b[0m\u001b[0;34m,\u001b[0m \u001b[0;34m''\u001b[0m\u001b[0;34m,\u001b[0m \u001b[0mcifra\u001b[0m\u001b[0;34m)\u001b[0m\u001b[0;34m\u001b[0m\u001b[0m\n",
      "\u001b[0;31mValueError\u001b[0m: too many values to unpack (expected 2)"
     ]
    }
   ],
   "source": [
    "clean_ocr = clean_txt(ocr)\n",
    "test = get_original_amounts(clean_ocr, number_rg)\n",
    "print(test)\n",
    "\n",
    "currency_rg = re.compile(r'pesos\\sargentinos\\s')\n",
    "\n",
    "for cifra, extension in test:\n",
    "    \n",
    "    cifra_ = re.sub('\\.', '', cifra)\n",
    "    n2w = num2words(cifra_, lang='es')\n",
    "    extension = re.sub(currency_rg, '', extension)\n",
    "    #print(n2w)\n",
    "    \n",
    "    if extension != n2w:\n",
    "        print(\"{} NO COINCIDE CON {}\".format(cifra, extension))\n",
    "    \n",
    "    \n",
    "    "
   ]
  },
  {
   "cell_type": "code",
   "execution_count": null,
   "metadata": {},
   "outputs": [],
   "source": [
    "currency_rg = re.compile(r'pesos\\sargentinos\\s')\n",
    "convert_n2w(cnumeros,)"
   ]
  },
  {
   "cell_type": "code",
   "execution_count": null,
   "metadata": {},
   "outputs": [],
   "source": []
  },
  {
   "cell_type": "code",
   "execution_count": null,
   "metadata": {},
   "outputs": [],
   "source": [
    "def transform_n2w(lista_num, currency_rg):\n",
    "    output = []\n",
    "    for n_n, n_e in lista_num:\n",
    "        n_e = re.sub(currency_rg, '', n_e)\n",
    "        nconv = outp(n_n)\n",
    "        a = num2words(nconv, lang='es')\n",
    "        output.append(a)\n",
    "    return output"
   ]
  },
  {
   "cell_type": "code",
   "execution_count": null,
   "metadata": {},
   "outputs": [],
   "source": [
    "currency_rg = re.compile(r'pesos\\sargentinos\\s')\n",
    "transform_n2w(cnumeros, currency_rg)"
   ]
  },
  {
   "cell_type": "code",
   "execution_count": null,
   "metadata": {},
   "outputs": [],
   "source": [
    "import re\n",
    "numeroTelefonoRegex = re.compile(r'\\d\\d\\d\\d\\d\\d\\d\\d\\d\\d')\n",
    "mo = numeroTelefonoRegex.search('Mi número de celular es 1534234512')\n",
    "if mo:\n",
    "    print('Número de teléfono encontrado: ' + mo.group())\n",
    "else:\n",
    "    print('No se encontró un número de teléfono')"
   ]
  },
  {
   "cell_type": "code",
   "execution_count": null,
   "metadata": {},
   "outputs": [],
   "source": []
  },
  {
   "cell_type": "code",
   "execution_count": null,
   "metadata": {},
   "outputs": [],
   "source": []
  },
  {
   "cell_type": "code",
   "execution_count": null,
   "metadata": {},
   "outputs": [],
   "source": []
  },
  {
   "cell_type": "code",
   "execution_count": null,
   "metadata": {
    "jupyter": {
     "source_hidden": true
    }
   },
   "outputs": [],
   "source": [
    "tokens = [token.text for token in doc]\n",
    "tokens\n",
    "tags = [token.tag_ for token in doc]\n",
    "tags"
   ]
  },
  {
   "cell_type": "code",
   "execution_count": null,
   "metadata": {},
   "outputs": [],
   "source": []
  },
  {
   "cell_type": "code",
   "execution_count": null,
   "metadata": {},
   "outputs": [],
   "source": []
  }
 ],
 "metadata": {
  "kernelspec": {
   "display_name": "Python 3",
   "language": "python",
   "name": "python3"
  },
  "language_info": {
   "codemirror_mode": {
    "name": "ipython",
    "version": 3
   },
   "file_extension": ".py",
   "mimetype": "text/x-python",
   "name": "python",
   "nbconvert_exporter": "python",
   "pygments_lexer": "ipython3",
   "version": "3.6.5"
  }
 },
 "nbformat": 4,
 "nbformat_minor": 4
}
